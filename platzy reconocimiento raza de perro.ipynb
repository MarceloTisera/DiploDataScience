{
  "nbformat": 4,
  "nbformat_minor": 0,
  "metadata": {
    "colab": {
      "name": "Clase 4.ipynb",
      "provenance": [],
      "include_colab_link": true
    },
    "kernelspec": {
      "name": "python3",
      "display_name": "Python 3"
    },
    "widgets": {
      "application/vnd.jupyter.widget-state+json": {
        "e59bdea6827041a59591317684b31409": {
          "model_module": "@jupyter-widgets/controls",
          "model_name": "HBoxModel",
          "state": {
            "_view_name": "HBoxView",
            "_dom_classes": [],
            "_model_name": "HBoxModel",
            "_view_module": "@jupyter-widgets/controls",
            "_model_module_version": "1.5.0",
            "_view_count": null,
            "_view_module_version": "1.5.0",
            "box_style": "",
            "layout": "IPY_MODEL_4308e4c1afea4ff08ec4f3be5ae0f3c8",
            "_model_module": "@jupyter-widgets/controls",
            "children": [
              "IPY_MODEL_b2adaac1bd0c400ebe3b87021e0f84c7",
              "IPY_MODEL_2c21800ac65d485e930c4d38752ad68d"
            ]
          }
        },
        "4308e4c1afea4ff08ec4f3be5ae0f3c8": {
          "model_module": "@jupyter-widgets/base",
          "model_name": "LayoutModel",
          "state": {
            "_view_name": "LayoutView",
            "grid_template_rows": null,
            "right": null,
            "justify_content": null,
            "_view_module": "@jupyter-widgets/base",
            "overflow": null,
            "_model_module_version": "1.2.0",
            "_view_count": null,
            "flex_flow": null,
            "width": null,
            "min_width": null,
            "border": null,
            "align_items": null,
            "bottom": null,
            "_model_module": "@jupyter-widgets/base",
            "top": null,
            "grid_column": null,
            "overflow_y": null,
            "overflow_x": null,
            "grid_auto_flow": null,
            "grid_area": null,
            "grid_template_columns": null,
            "flex": null,
            "_model_name": "LayoutModel",
            "justify_items": null,
            "grid_row": null,
            "max_height": null,
            "align_content": null,
            "visibility": null,
            "align_self": null,
            "height": null,
            "min_height": null,
            "padding": null,
            "grid_auto_rows": null,
            "grid_gap": null,
            "max_width": null,
            "order": null,
            "_view_module_version": "1.2.0",
            "grid_template_areas": null,
            "object_position": null,
            "object_fit": null,
            "grid_auto_columns": null,
            "margin": null,
            "display": null,
            "left": null
          }
        },
        "b2adaac1bd0c400ebe3b87021e0f84c7": {
          "model_module": "@jupyter-widgets/controls",
          "model_name": "FloatProgressModel",
          "state": {
            "_view_name": "ProgressView",
            "style": "IPY_MODEL_b0abfeb22ba342229f78e7d032e3f520",
            "_dom_classes": [],
            "description": "100%",
            "_model_name": "FloatProgressModel",
            "bar_style": "success",
            "max": 108857766,
            "_view_module": "@jupyter-widgets/controls",
            "_model_module_version": "1.5.0",
            "value": 108857766,
            "_view_count": null,
            "_view_module_version": "1.5.0",
            "orientation": "horizontal",
            "min": 0,
            "description_tooltip": null,
            "_model_module": "@jupyter-widgets/controls",
            "layout": "IPY_MODEL_3313a5c93f274b97aaf46ae62616a1b9"
          }
        },
        "2c21800ac65d485e930c4d38752ad68d": {
          "model_module": "@jupyter-widgets/controls",
          "model_name": "HTMLModel",
          "state": {
            "_view_name": "HTMLView",
            "style": "IPY_MODEL_4ca1614492994e0980b39c377155aefa",
            "_dom_classes": [],
            "description": "",
            "_model_name": "HTMLModel",
            "placeholder": "​",
            "_view_module": "@jupyter-widgets/controls",
            "_model_module_version": "1.5.0",
            "value": " 104M/104M [00:01&lt;00:00, 83.4MB/s]",
            "_view_count": null,
            "_view_module_version": "1.5.0",
            "description_tooltip": null,
            "_model_module": "@jupyter-widgets/controls",
            "layout": "IPY_MODEL_c1c6c2e138c84a50b54797bd9b840ae4"
          }
        },
        "b0abfeb22ba342229f78e7d032e3f520": {
          "model_module": "@jupyter-widgets/controls",
          "model_name": "ProgressStyleModel",
          "state": {
            "_view_name": "StyleView",
            "_model_name": "ProgressStyleModel",
            "description_width": "initial",
            "_view_module": "@jupyter-widgets/base",
            "_model_module_version": "1.5.0",
            "_view_count": null,
            "_view_module_version": "1.2.0",
            "bar_color": null,
            "_model_module": "@jupyter-widgets/controls"
          }
        },
        "3313a5c93f274b97aaf46ae62616a1b9": {
          "model_module": "@jupyter-widgets/base",
          "model_name": "LayoutModel",
          "state": {
            "_view_name": "LayoutView",
            "grid_template_rows": null,
            "right": null,
            "justify_content": null,
            "_view_module": "@jupyter-widgets/base",
            "overflow": null,
            "_model_module_version": "1.2.0",
            "_view_count": null,
            "flex_flow": null,
            "width": null,
            "min_width": null,
            "border": null,
            "align_items": null,
            "bottom": null,
            "_model_module": "@jupyter-widgets/base",
            "top": null,
            "grid_column": null,
            "overflow_y": null,
            "overflow_x": null,
            "grid_auto_flow": null,
            "grid_area": null,
            "grid_template_columns": null,
            "flex": null,
            "_model_name": "LayoutModel",
            "justify_items": null,
            "grid_row": null,
            "max_height": null,
            "align_content": null,
            "visibility": null,
            "align_self": null,
            "height": null,
            "min_height": null,
            "padding": null,
            "grid_auto_rows": null,
            "grid_gap": null,
            "max_width": null,
            "order": null,
            "_view_module_version": "1.2.0",
            "grid_template_areas": null,
            "object_position": null,
            "object_fit": null,
            "grid_auto_columns": null,
            "margin": null,
            "display": null,
            "left": null
          }
        },
        "4ca1614492994e0980b39c377155aefa": {
          "model_module": "@jupyter-widgets/controls",
          "model_name": "DescriptionStyleModel",
          "state": {
            "_view_name": "StyleView",
            "_model_name": "DescriptionStyleModel",
            "description_width": "",
            "_view_module": "@jupyter-widgets/base",
            "_model_module_version": "1.5.0",
            "_view_count": null,
            "_view_module_version": "1.2.0",
            "_model_module": "@jupyter-widgets/controls"
          }
        },
        "c1c6c2e138c84a50b54797bd9b840ae4": {
          "model_module": "@jupyter-widgets/base",
          "model_name": "LayoutModel",
          "state": {
            "_view_name": "LayoutView",
            "grid_template_rows": null,
            "right": null,
            "justify_content": null,
            "_view_module": "@jupyter-widgets/base",
            "overflow": null,
            "_model_module_version": "1.2.0",
            "_view_count": null,
            "flex_flow": null,
            "width": null,
            "min_width": null,
            "border": null,
            "align_items": null,
            "bottom": null,
            "_model_module": "@jupyter-widgets/base",
            "top": null,
            "grid_column": null,
            "overflow_y": null,
            "overflow_x": null,
            "grid_auto_flow": null,
            "grid_area": null,
            "grid_template_columns": null,
            "flex": null,
            "_model_name": "LayoutModel",
            "justify_items": null,
            "grid_row": null,
            "max_height": null,
            "align_content": null,
            "visibility": null,
            "align_self": null,
            "height": null,
            "min_height": null,
            "padding": null,
            "grid_auto_rows": null,
            "grid_gap": null,
            "max_width": null,
            "order": null,
            "_view_module_version": "1.2.0",
            "grid_template_areas": null,
            "object_position": null,
            "object_fit": null,
            "grid_auto_columns": null,
            "margin": null,
            "display": null,
            "left": null
          }
        }
      }
    }
  },
  "cells": [
    {
      "cell_type": "markdown",
      "metadata": {
        "id": "view-in-github",
        "colab_type": "text"
      },
      "source": [
        "<a href=\"https://colab.research.google.com/github/MarceloTisera/DiploDataScience/blob/master/platzy%20reconocimiento%20raza%20de%20perro.ipynb\" target=\"_parent\"><img src=\"https://colab.research.google.com/assets/colab-badge.svg\" alt=\"Open In Colab\"/></a>"
      ]
    },
    {
      "cell_type": "code",
      "metadata": {
        "id": "3s-AOcUYmGCF"
      },
      "source": [
        "import torch\n",
        "\n",
        "from torchvision import utils\n",
        "from torchvision import models\n",
        "from torchvision import datasets\n",
        "from torchvision import transforms\n",
        "\n",
        "from PIL import Image\n",
        "import urllib.request as request\n",
        "from matplotlib import pyplot as plt"
      ],
      "execution_count": 1,
      "outputs": []
    },
    {
      "cell_type": "markdown",
      "metadata": {
        "id": "0ejS2R6_qG-z"
      },
      "source": [
        "# Modelo pre-entrenado\n",
        "\n",
        "---\n",
        "\n"
      ]
    },
    {
      "cell_type": "code",
      "metadata": {
        "id": "WPagA2W5qJ_e",
        "outputId": "3810c143-c15b-4b1c-902f-978ec5b98833",
        "colab": {
          "base_uri": "https://localhost:8080/",
          "height": 103,
          "referenced_widgets": [
            "e59bdea6827041a59591317684b31409",
            "4308e4c1afea4ff08ec4f3be5ae0f3c8",
            "b2adaac1bd0c400ebe3b87021e0f84c7",
            "2c21800ac65d485e930c4d38752ad68d",
            "b0abfeb22ba342229f78e7d032e3f520",
            "3313a5c93f274b97aaf46ae62616a1b9",
            "4ca1614492994e0980b39c377155aefa",
            "c1c6c2e138c84a50b54797bd9b840ae4"
          ]
        }
      },
      "source": [
        "inception = models.inception_v3(pretrained=True)"
      ],
      "execution_count": 2,
      "outputs": [
        {
          "output_type": "stream",
          "text": [
            "Downloading: \"https://download.pytorch.org/models/inception_v3_google-1a9a5a14.pth\" to /root/.cache/torch/hub/checkpoints/inception_v3_google-1a9a5a14.pth\n"
          ],
          "name": "stderr"
        },
        {
          "output_type": "display_data",
          "data": {
            "application/vnd.jupyter.widget-view+json": {
              "model_id": "e59bdea6827041a59591317684b31409",
              "version_minor": 0,
              "version_major": 2
            },
            "text/plain": [
              "HBox(children=(FloatProgress(value=0.0, max=108857766.0), HTML(value='')))"
            ]
          },
          "metadata": {
            "tags": []
          }
        },
        {
          "output_type": "stream",
          "text": [
            "\n"
          ],
          "name": "stdout"
        }
      ]
    },
    {
      "cell_type": "code",
      "metadata": {
        "id": "p8Uf9pB6qYci",
        "outputId": "bff4a3e3-0bb0-46a6-e9d6-ac464c743ec0",
        "colab": {
          "base_uri": "https://localhost:8080/",
          "height": 441
        }
      },
      "source": [
        "url = 'https://t2.ea.ltmcdn.com/es/razas/5/5/0/img_55_golden-retriever-o-cobrador-dorado_0_600.jpg'\n",
        "image = request.urlretrieve(url, 'test.jpg')\n",
        "img = Image.open(image[0])\n",
        "img"
      ],
      "execution_count": 4,
      "outputs": [
        {
          "output_type": "execute_result",
          "data": {
            "image/png": "[encoded data removed]",
            "text/plain": [
              "<PIL.JpegImagePlugin.JpegImageFile image mode=RGB size=600x424 at 0x7FB4E5DF2518>"
            ]
          },
          "metadata": {
            "tags": []
          },
          "execution_count": 4
        }
      ]
    },
    {
      "cell_type": "code",
      "metadata": {
        "id": "t3y-Y-uXqqc8"
      },
      "source": [
        "preprocess = transforms.Compose([\n",
        "    transforms.Resize(128),\n",
        "    transforms.CenterCrop(128),\n",
        "    transforms.ToTensor(),\n",
        "    transforms.Normalize(\n",
        "        mean=[0.485, 0.456, 0.406],\n",
        "        std=[0.229, 0.224, 0.225]\n",
        "    )\n",
        "])"
      ],
      "execution_count": 5,
      "outputs": []
    },
    {
      "cell_type": "code",
      "metadata": {
        "id": "dFJyDmoLrNM5",
        "outputId": "6a8ac42b-7aaf-429a-f963-d46f14c531e1",
        "colab": {
          "base_uri": "https://localhost:8080/",
          "height": 302
        }
      },
      "source": [
        "img_t = preprocess(img)\n",
        "batch = torch.unsqueeze(img_t, 0)\n",
        "plt.imshow(img_t.permute(1, 2, 0))"
      ],
      "execution_count": 6,
      "outputs": [
        {
          "output_type": "stream",
          "text": [
            "Clipping input data to the valid range for imshow with RGB data ([0..1] for floats or [0..255] for integers).\n"
          ],
          "name": "stderr"
        },
        {
          "output_type": "execute_result",
          "data": {
            "text/plain": [
              "<matplotlib.image.AxesImage at 0x7fb4e4d5a908>"
            ]
          },
          "metadata": {
            "tags": []
          },
          "execution_count": 6
        },
        {
          "output_type": "display_data",
          "data": {
            "image/png": "[encoded data removed]",
            "text/plain": [
              "<Figure size 432x288 with 1 Axes>"
            ]
          },
          "metadata": {
            "tags": [],
            "needs_background": "light"
          }
        }
      ]
    },
    {
      "cell_type": "code",
      "metadata": {
        "id": "0vxMcaxrrqDv",
        "outputId": "41d3a6f1-ab5d-4465-e250-81ea5da21c51",
        "colab": {
          "base_uri": "https://localhost:8080/",
          "height": 1000
        }
      },
      "source": [
        "inception.eval()"
      ],
      "execution_count": 7,
      "outputs": [
        {
          "output_type": "execute_result",
          "data": {
            "text/plain": [
              "Inception3(\n",
              "  (Conv2d_1a_3x3): BasicConv2d(\n",
              "    (conv): Conv2d(3, 32, kernel_size=(3, 3), stride=(2, 2), bias=False)\n",
              "    (bn): BatchNorm2d(32, eps=0.001, momentum=0.1, affine=True, track_running_stats=True)\n",
              "  )\n",
              "  (Conv2d_2a_3x3): BasicConv2d(\n",
              "    (conv): Conv2d(32, 32, kernel_size=(3, 3), stride=(1, 1), bias=False)\n",
              "    (bn): BatchNorm2d(32, eps=0.001, momentum=0.1, affine=True, track_running_stats=True)\n",
              "  )\n",
              "  (Conv2d_2b_3x3): BasicConv2d(\n",
              "    (conv): Conv2d(32, 64, kernel_size=(3, 3), stride=(1, 1), padding=(1, 1), bias=False)\n",
              "    (bn): BatchNorm2d(64, eps=0.001, momentum=0.1, affine=True, track_running_stats=True)\n",
              "  )\n",
              "  (maxpool1): MaxPool2d(kernel_size=3, stride=2, padding=0, dilation=1, ceil_mode=False)\n",
              "  (Conv2d_3b_1x1): BasicConv2d(\n",
              "    (conv): Conv2d(64, 80, kernel_size=(1, 1), stride=(1, 1), bias=False)\n",
              "    (bn): BatchNorm2d(80, eps=0.001, momentum=0.1, affine=True, track_running_stats=True)\n",
              "  )\n",
              "  (Conv2d_4a_3x3): BasicConv2d(\n",
              "    (conv): Conv2d(80, 192, kernel_size=(3, 3), stride=(1, 1), bias=False)\n",
              "    (bn): BatchNorm2d(192, eps=0.001, momentum=0.1, affine=True, track_running_stats=True)\n",
              "  )\n",
              "  (maxpool2): MaxPool2d(kernel_size=3, stride=2, padding=0, dilation=1, ceil_mode=False)\n",
              "  (Mixed_5b): InceptionA(\n",
              "    (branch1x1): BasicConv2d(\n",
              "      (conv): Conv2d(192, 64, kernel_size=(1, 1), stride=(1, 1), bias=False)\n",
              "      (bn): BatchNorm2d(64, eps=0.001, momentum=0.1, affine=True, track_running_stats=True)\n",
              "    )\n",
              "    (branch5x5_1): BasicConv2d(\n",
              "      (conv): Conv2d(192, 48, kernel_size=(1, 1), stride=(1, 1), bias=False)\n",
              "      (bn): BatchNorm2d(48, eps=0.001, momentum=0.1, affine=True, track_running_stats=True)\n",
              "    )\n",
              "    (branch5x5_2): BasicConv2d(\n",
              "      (conv): Conv2d(48, 64, kernel_size=(5, 5), stride=(1, 1), padding=(2, 2), bias=False)\n",
              "      (bn): BatchNorm2d(64, eps=0.001, momentum=0.1, affine=True, track_running_stats=True)\n",
              "    )\n",
              "    (branch3x3dbl_1): BasicConv2d(\n",
              "      (conv): Conv2d(192, 64, kernel_size=(1, 1), stride=(1, 1), bias=False)\n",
              "      (bn): BatchNorm2d(64, eps=0.001, momentum=0.1, affine=True, track_running_stats=True)\n",
              "    )\n",
              "    (branch3x3dbl_2): BasicConv2d(\n",
              "      (conv): Conv2d(64, 96, kernel_size=(3, 3), stride=(1, 1), padding=(1, 1), bias=False)\n",
              "      (bn): BatchNorm2d(96, eps=0.001, momentum=0.1, affine=True, track_running_stats=True)\n",
              "    )\n",
              "    (branch3x3dbl_3): BasicConv2d(\n",
              "      (conv): Conv2d(96, 96, kernel_size=(3, 3), stride=(1, 1), padding=(1, 1), bias=False)\n",
              "      (bn): BatchNorm2d(96, eps=0.001, momentum=0.1, affine=True, track_running_stats=True)\n",
              "    )\n",
              "    (branch_pool): BasicConv2d(\n",
              "      (conv): Conv2d(192, 32, kernel_size=(1, 1), stride=(1, 1), bias=False)\n",
              "      (bn): BatchNorm2d(32, eps=0.001, momentum=0.1, affine=True, track_running_stats=True)\n",
              "    )\n",
              "  )\n",
              "  (Mixed_5c): InceptionA(\n",
              "    (branch1x1): BasicConv2d(\n",
              "      (conv): Conv2d(256, 64, kernel_size=(1, 1), stride=(1, 1), bias=False)\n",
              "      (bn): BatchNorm2d(64, eps=0.001, momentum=0.1, affine=True, track_running_stats=True)\n",
              "    )\n",
              "    (branch5x5_1): BasicConv2d(\n",
              "      (conv): Conv2d(256, 48, kernel_size=(1, 1), stride=(1, 1), bias=False)\n",
              "      (bn): BatchNorm2d(48, eps=0.001, momentum=0.1, affine=True, track_running_stats=True)\n",
              "    )\n",
              "    (branch5x5_2): BasicConv2d(\n",
              "      (conv): Conv2d(48, 64, kernel_size=(5, 5), stride=(1, 1), padding=(2, 2), bias=False)\n",
              "      (bn): BatchNorm2d(64, eps=0.001, momentum=0.1, affine=True, track_running_stats=True)\n",
              "    )\n",
              "    (branch3x3dbl_1): BasicConv2d(\n",
              "      (conv): Conv2d(256, 64, kernel_size=(1, 1), stride=(1, 1), bias=False)\n",
              "      (bn): BatchNorm2d(64, eps=0.001, momentum=0.1, affine=True, track_running_stats=True)\n",
              "    )\n",
              "    (branch3x3dbl_2): BasicConv2d(\n",
              "      (conv): Conv2d(64, 96, kernel_size=(3, 3), stride=(1, 1), padding=(1, 1), bias=False)\n",
              "      (bn): BatchNorm2d(96, eps=0.001, momentum=0.1, affine=True, track_running_stats=True)\n",
              "    )\n",
              "    (branch3x3dbl_3): BasicConv2d(\n",
              "      (conv): Conv2d(96, 96, kernel_size=(3, 3), stride=(1, 1), padding=(1, 1), bias=False)\n",
              "      (bn): BatchNorm2d(96, eps=0.001, momentum=0.1, affine=True, track_running_stats=True)\n",
              "    )\n",
              "    (branch_pool): BasicConv2d(\n",
              "      (conv): Conv2d(256, 64, kernel_size=(1, 1), stride=(1, 1), bias=False)\n",
              "      (bn): BatchNorm2d(64, eps=0.001, momentum=0.1, affine=True, track_running_stats=True)\n",
              "    )\n",
              "  )\n",
              "  (Mixed_5d): InceptionA(\n",
              "    (branch1x1): BasicConv2d(\n",
              "      (conv): Conv2d(288, 64, kernel_size=(1, 1), stride=(1, 1), bias=False)\n",
              "      (bn): BatchNorm2d(64, eps=0.001, momentum=0.1, affine=True, track_running_stats=True)\n",
              "    )\n",
              "    (branch5x5_1): BasicConv2d(\n",
              "      (conv): Conv2d(288, 48, kernel_size=(1, 1), stride=(1, 1), bias=False)\n",
              "      (bn): BatchNorm2d(48, eps=0.001, momentum=0.1, affine=True, track_running_stats=True)\n",
              "    )\n",
              "    (branch5x5_2): BasicConv2d(\n",
              "      (conv): Conv2d(48, 64, kernel_size=(5, 5), stride=(1, 1), padding=(2, 2), bias=False)\n",
              "      (bn): BatchNorm2d(64, eps=0.001, momentum=0.1, affine=True, track_running_stats=True)\n",
              "    )\n",
              "    (branch3x3dbl_1): BasicConv2d(\n",
              "      (conv): Conv2d(288, 64, kernel_size=(1, 1), stride=(1, 1), bias=False)\n",
              "      (bn): BatchNorm2d(64, eps=0.001, momentum=0.1, affine=True, track_running_stats=True)\n",
              "    )\n",
              "    (branch3x3dbl_2): BasicConv2d(\n",
              "      (conv): Conv2d(64, 96, kernel_size=(3, 3), stride=(1, 1), padding=(1, 1), bias=False)\n",
              "      (bn): BatchNorm2d(96, eps=0.001, momentum=0.1, affine=True, track_running_stats=True)\n",
              "    )\n",
              "    (branch3x3dbl_3): BasicConv2d(\n",
              "      (conv): Conv2d(96, 96, kernel_size=(3, 3), stride=(1, 1), padding=(1, 1), bias=False)\n",
              "      (bn): BatchNorm2d(96, eps=0.001, momentum=0.1, affine=True, track_running_stats=True)\n",
              "    )\n",
              "    (branch_pool): BasicConv2d(\n",
              "      (conv): Conv2d(288, 64, kernel_size=(1, 1), stride=(1, 1), bias=False)\n",
              "      (bn): BatchNorm2d(64, eps=0.001, momentum=0.1, affine=True, track_running_stats=True)\n",
              "    )\n",
              "  )\n",
              "  (Mixed_6a): InceptionB(\n",
              "    (branch3x3): BasicConv2d(\n",
              "      (conv): Conv2d(288, 384, kernel_size=(3, 3), stride=(2, 2), bias=False)\n",
              "      (bn): BatchNorm2d(384, eps=0.001, momentum=0.1, affine=True, track_running_stats=True)\n",
              "    )\n",
              "    (branch3x3dbl_1): BasicConv2d(\n",
              "      (conv): Conv2d(288, 64, kernel_size=(1, 1), stride=(1, 1), bias=False)\n",
              "      (bn): BatchNorm2d(64, eps=0.001, momentum=0.1, affine=True, track_running_stats=True)\n",
              "    )\n",
              "    (branch3x3dbl_2): BasicConv2d(\n",
              "      (conv): Conv2d(64, 96, kernel_size=(3, 3), stride=(1, 1), padding=(1, 1), bias=False)\n",
              "      (bn): BatchNorm2d(96, eps=0.001, momentum=0.1, affine=True, track_running_stats=True)\n",
              "    )\n",
              "    (branch3x3dbl_3): BasicConv2d(\n",
              "      (conv): Conv2d(96, 96, kernel_size=(3, 3), stride=(2, 2), bias=False)\n",
              "      (bn): BatchNorm2d(96, eps=0.001, momentum=0.1, affine=True, track_running_stats=True)\n",
              "    )\n",
              "  )\n",
              "  (Mixed_6b): InceptionC(\n",
              "    (branch1x1): BasicConv2d(\n",
              "      (conv): Conv2d(768, 192, kernel_size=(1, 1), stride=(1, 1), bias=False)\n",
              "      (bn): BatchNorm2d(192, eps=0.001, momentum=0.1, affine=True, track_running_stats=True)\n",
              "    )\n",
              "    (branch7x7_1): BasicConv2d(\n",
              "      (conv): Conv2d(768, 128, kernel_size=(1, 1), stride=(1, 1), bias=False)\n",
              "      (bn): BatchNorm2d(128, eps=0.001, momentum=0.1, affine=True, track_running_stats=True)\n",
              "    )\n",
              "    (branch7x7_2): BasicConv2d(\n",
              "      (conv): Conv2d(128, 128, kernel_size=(1, 7), stride=(1, 1), padding=(0, 3), bias=False)\n",
              "      (bn): BatchNorm2d(128, eps=0.001, momentum=0.1, affine=True, track_running_stats=True)\n",
              "    )\n",
              "    (branch7x7_3): BasicConv2d(\n",
              "      (conv): Conv2d(128, 192, kernel_size=(7, 1), stride=(1, 1), padding=(3, 0), bias=False)\n",
              "      (bn): BatchNorm2d(192, eps=0.001, momentum=0.1, affine=True, track_running_stats=True)\n",
              "    )\n",
              "    (branch7x7dbl_1): BasicConv2d(\n",
              "      (conv): Conv2d(768, 128, kernel_size=(1, 1), stride=(1, 1), bias=False)\n",
              "      (bn): BatchNorm2d(128, eps=0.001, momentum=0.1, affine=True, track_running_stats=True)\n",
              "    )\n",
              "    (branch7x7dbl_2): BasicConv2d(\n",
              "      (conv): Conv2d(128, 128, kernel_size=(7, 1), stride=(1, 1), padding=(3, 0), bias=False)\n",
              "      (bn): BatchNorm2d(128, eps=0.001, momentum=0.1, affine=True, track_running_stats=True)\n",
              "    )\n",
              "    (branch7x7dbl_3): BasicConv2d(\n",
              "      (conv): Conv2d(128, 128, kernel_size=(1, 7), stride=(1, 1), padding=(0, 3), bias=False)\n",
              "      (bn): BatchNorm2d(128, eps=0.001, momentum=0.1, affine=True, track_running_stats=True)\n",
              "    )\n",
              "    (branch7x7dbl_4): BasicConv2d(\n",
              "      (conv): Conv2d(128, 128, kernel_size=(7, 1), stride=(1, 1), padding=(3, 0), bias=False)\n",
              "      (bn): BatchNorm2d(128, eps=0.001, momentum=0.1, affine=True, track_running_stats=True)\n",
              "    )\n",
              "    (branch7x7dbl_5): BasicConv2d(\n",
              "      (conv): Conv2d(128, 192, kernel_size=(1, 7), stride=(1, 1), padding=(0, 3), bias=False)\n",
              "      (bn): BatchNorm2d(192, eps=0.001, momentum=0.1, affine=True, track_running_stats=True)\n",
              "    )\n",
              "    (branch_pool): BasicConv2d(\n",
              "      (conv): Conv2d(768, 192, kernel_size=(1, 1), stride=(1, 1), bias=False)\n",
              "      (bn): BatchNorm2d(192, eps=0.001, momentum=0.1, affine=True, track_running_stats=True)\n",
              "    )\n",
              "  )\n",
              "  (Mixed_6c): InceptionC(\n",
              "    (branch1x1): BasicConv2d(\n",
              "      (conv): Conv2d(768, 192, kernel_size=(1, 1), stride=(1, 1), bias=False)\n",
              "      (bn): BatchNorm2d(192, eps=0.001, momentum=0.1, affine=True, track_running_stats=True)\n",
              "    )\n",
              "    (branch7x7_1): BasicConv2d(\n",
              "      (conv): Conv2d(768, 160, kernel_size=(1, 1), stride=(1, 1), bias=False)\n",
              "      (bn): BatchNorm2d(160, eps=0.001, momentum=0.1, affine=True, track_running_stats=True)\n",
              "    )\n",
              "    (branch7x7_2): BasicConv2d(\n",
              "      (conv): Conv2d(160, 160, kernel_size=(1, 7), stride=(1, 1), padding=(0, 3), bias=False)\n",
              "      (bn): BatchNorm2d(160, eps=0.001, momentum=0.1, affine=True, track_running_stats=True)\n",
              "    )\n",
              "    (branch7x7_3): BasicConv2d(\n",
              "      (conv): Conv2d(160, 192, kernel_size=(7, 1), stride=(1, 1), padding=(3, 0), bias=False)\n",
              "      (bn): BatchNorm2d(192, eps=0.001, momentum=0.1, affine=True, track_running_stats=True)\n",
              "    )\n",
              "    (branch7x7dbl_1): BasicConv2d(\n",
              "      (conv): Conv2d(768, 160, kernel_size=(1, 1), stride=(1, 1), bias=False)\n",
              "      (bn): BatchNorm2d(160, eps=0.001, momentum=0.1, affine=True, track_running_stats=True)\n",
              "    )\n",
              "    (branch7x7dbl_2): BasicConv2d(\n",
              "      (conv): Conv2d(160, 160, kernel_size=(7, 1), stride=(1, 1), padding=(3, 0), bias=False)\n",
              "      (bn): BatchNorm2d(160, eps=0.001, momentum=0.1, affine=True, track_running_stats=True)\n",
              "    )\n",
              "    (branch7x7dbl_3): BasicConv2d(\n",
              "      (conv): Conv2d(160, 160, kernel_size=(1, 7), stride=(1, 1), padding=(0, 3), bias=False)\n",
              "      (bn): BatchNorm2d(160, eps=0.001, momentum=0.1, affine=True, track_running_stats=True)\n",
              "    )\n",
              "    (branch7x7dbl_4): BasicConv2d(\n",
              "      (conv): Conv2d(160, 160, kernel_size=(7, 1), stride=(1, 1), padding=(3, 0), bias=False)\n",
              "      (bn): BatchNorm2d(160, eps=0.001, momentum=0.1, affine=True, track_running_stats=True)\n",
              "    )\n",
              "    (branch7x7dbl_5): BasicConv2d(\n",
              "      (conv): Conv2d(160, 192, kernel_size=(1, 7), stride=(1, 1), padding=(0, 3), bias=False)\n",
              "      (bn): BatchNorm2d(192, eps=0.001, momentum=0.1, affine=True, track_running_stats=True)\n",
              "    )\n",
              "    (branch_pool): BasicConv2d(\n",
              "      (conv): Conv2d(768, 192, kernel_size=(1, 1), stride=(1, 1), bias=False)\n",
              "      (bn): BatchNorm2d(192, eps=0.001, momentum=0.1, affine=True, track_running_stats=True)\n",
              "    )\n",
              "  )\n",
              "  (Mixed_6d): InceptionC(\n",
              "    (branch1x1): BasicConv2d(\n",
              "      (conv): Conv2d(768, 192, kernel_size=(1, 1), stride=(1, 1), bias=False)\n",
              "      (bn): BatchNorm2d(192, eps=0.001, momentum=0.1, affine=True, track_running_stats=True)\n",
              "    )\n",
              "    (branch7x7_1): BasicConv2d(\n",
              "      (conv): Conv2d(768, 160, kernel_size=(1, 1), stride=(1, 1), bias=False)\n",
              "      (bn): BatchNorm2d(160, eps=0.001, momentum=0.1, affine=True, track_running_stats=True)\n",
              "    )\n",
              "    (branch7x7_2): BasicConv2d(\n",
              "      (conv): Conv2d(160, 160, kernel_size=(1, 7), stride=(1, 1), padding=(0, 3), bias=False)\n",
              "      (bn): BatchNorm2d(160, eps=0.001, momentum=0.1, affine=True, track_running_stats=True)\n",
              "    )\n",
              "    (branch7x7_3): BasicConv2d(\n",
              "      (conv): Conv2d(160, 192, kernel_size=(7, 1), stride=(1, 1), padding=(3, 0), bias=False)\n",
              "      (bn): BatchNorm2d(192, eps=0.001, momentum=0.1, affine=True, track_running_stats=True)\n",
              "    )\n",
              "    (branch7x7dbl_1): BasicConv2d(\n",
              "      (conv): Conv2d(768, 160, kernel_size=(1, 1), stride=(1, 1), bias=False)\n",
              "      (bn): BatchNorm2d(160, eps=0.001, momentum=0.1, affine=True, track_running_stats=True)\n",
              "    )\n",
              "    (branch7x7dbl_2): BasicConv2d(\n",
              "      (conv): Conv2d(160, 160, kernel_size=(7, 1), stride=(1, 1), padding=(3, 0), bias=False)\n",
              "      (bn): BatchNorm2d(160, eps=0.001, momentum=0.1, affine=True, track_running_stats=True)\n",
              "    )\n",
              "    (branch7x7dbl_3): BasicConv2d(\n",
              "      (conv): Conv2d(160, 160, kernel_size=(1, 7), stride=(1, 1), padding=(0, 3), bias=False)\n",
              "      (bn): BatchNorm2d(160, eps=0.001, momentum=0.1, affine=True, track_running_stats=True)\n",
              "    )\n",
              "    (branch7x7dbl_4): BasicConv2d(\n",
              "      (conv): Conv2d(160, 160, kernel_size=(7, 1), stride=(1, 1), padding=(3, 0), bias=False)\n",
              "      (bn): BatchNorm2d(160, eps=0.001, momentum=0.1, affine=True, track_running_stats=True)\n",
              "    )\n",
              "    (branch7x7dbl_5): BasicConv2d(\n",
              "      (conv): Conv2d(160, 192, kernel_size=(1, 7), stride=(1, 1), padding=(0, 3), bias=False)\n",
              "      (bn): BatchNorm2d(192, eps=0.001, momentum=0.1, affine=True, track_running_stats=True)\n",
              "    )\n",
              "    (branch_pool): BasicConv2d(\n",
              "      (conv): Conv2d(768, 192, kernel_size=(1, 1), stride=(1, 1), bias=False)\n",
              "      (bn): BatchNorm2d(192, eps=0.001, momentum=0.1, affine=True, track_running_stats=True)\n",
              "    )\n",
              "  )\n",
              "  (Mixed_6e): InceptionC(\n",
              "    (branch1x1): BasicConv2d(\n",
              "      (conv): Conv2d(768, 192, kernel_size=(1, 1), stride=(1, 1), bias=False)\n",
              "      (bn): BatchNorm2d(192, eps=0.001, momentum=0.1, affine=True, track_running_stats=True)\n",
              "    )\n",
              "    (branch7x7_1): BasicConv2d(\n",
              "      (conv): Conv2d(768, 192, kernel_size=(1, 1), stride=(1, 1), bias=False)\n",
              "      (bn): BatchNorm2d(192, eps=0.001, momentum=0.1, affine=True, track_running_stats=True)\n",
              "    )\n",
              "    (branch7x7_2): BasicConv2d(\n",
              "      (conv): Conv2d(192, 192, kernel_size=(1, 7), stride=(1, 1), padding=(0, 3), bias=False)\n",
              "      (bn): BatchNorm2d(192, eps=0.001, momentum=0.1, affine=True, track_running_stats=True)\n",
              "    )\n",
              "    (branch7x7_3): BasicConv2d(\n",
              "      (conv): Conv2d(192, 192, kernel_size=(7, 1), stride=(1, 1), padding=(3, 0), bias=False)\n",
              "      (bn): BatchNorm2d(192, eps=0.001, momentum=0.1, affine=True, track_running_stats=True)\n",
              "    )\n",
              "    (branch7x7dbl_1): BasicConv2d(\n",
              "      (conv): Conv2d(768, 192, kernel_size=(1, 1), stride=(1, 1), bias=False)\n",
              "      (bn): BatchNorm2d(192, eps=0.001, momentum=0.1, affine=True, track_running_stats=True)\n",
              "    )\n",
              "    (branch7x7dbl_2): BasicConv2d(\n",
              "      (conv): Conv2d(192, 192, kernel_size=(7, 1), stride=(1, 1), padding=(3, 0), bias=False)\n",
              "      (bn): BatchNorm2d(192, eps=0.001, momentum=0.1, affine=True, track_running_stats=True)\n",
              "    )\n",
              "    (branch7x7dbl_3): BasicConv2d(\n",
              "      (conv): Conv2d(192, 192, kernel_size=(1, 7), stride=(1, 1), padding=(0, 3), bias=False)\n",
              "      (bn): BatchNorm2d(192, eps=0.001, momentum=0.1, affine=True, track_running_stats=True)\n",
              "    )\n",
              "    (branch7x7dbl_4): BasicConv2d(\n",
              "      (conv): Conv2d(192, 192, kernel_size=(7, 1), stride=(1, 1), padding=(3, 0), bias=False)\n",
              "      (bn): BatchNorm2d(192, eps=0.001, momentum=0.1, affine=True, track_running_stats=True)\n",
              "    )\n",
              "    (branch7x7dbl_5): BasicConv2d(\n",
              "      (conv): Conv2d(192, 192, kernel_size=(1, 7), stride=(1, 1), padding=(0, 3), bias=False)\n",
              "      (bn): BatchNorm2d(192, eps=0.001, momentum=0.1, affine=True, track_running_stats=True)\n",
              "    )\n",
              "    (branch_pool): BasicConv2d(\n",
              "      (conv): Conv2d(768, 192, kernel_size=(1, 1), stride=(1, 1), bias=False)\n",
              "      (bn): BatchNorm2d(192, eps=0.001, momentum=0.1, affine=True, track_running_stats=True)\n",
              "    )\n",
              "  )\n",
              "  (AuxLogits): InceptionAux(\n",
              "    (conv0): BasicConv2d(\n",
              "      (conv): Conv2d(768, 128, kernel_size=(1, 1), stride=(1, 1), bias=False)\n",
              "      (bn): BatchNorm2d(128, eps=0.001, momentum=0.1, affine=True, track_running_stats=True)\n",
              "    )\n",
              "    (conv1): BasicConv2d(\n",
              "      (conv): Conv2d(128, 768, kernel_size=(5, 5), stride=(1, 1), bias=False)\n",
              "      (bn): BatchNorm2d(768, eps=0.001, momentum=0.1, affine=True, track_running_stats=True)\n",
              "    )\n",
              "    (fc): Linear(in_features=768, out_features=1000, bias=True)\n",
              "  )\n",
              "  (Mixed_7a): InceptionD(\n",
              "    (branch3x3_1): BasicConv2d(\n",
              "      (conv): Conv2d(768, 192, kernel_size=(1, 1), stride=(1, 1), bias=False)\n",
              "      (bn): BatchNorm2d(192, eps=0.001, momentum=0.1, affine=True, track_running_stats=True)\n",
              "    )\n",
              "    (branch3x3_2): BasicConv2d(\n",
              "      (conv): Conv2d(192, 320, kernel_size=(3, 3), stride=(2, 2), bias=False)\n",
              "      (bn): BatchNorm2d(320, eps=0.001, momentum=0.1, affine=True, track_running_stats=True)\n",
              "    )\n",
              "    (branch7x7x3_1): BasicConv2d(\n",
              "      (conv): Conv2d(768, 192, kernel_size=(1, 1), stride=(1, 1), bias=False)\n",
              "      (bn): BatchNorm2d(192, eps=0.001, momentum=0.1, affine=True, track_running_stats=True)\n",
              "    )\n",
              "    (branch7x7x3_2): BasicConv2d(\n",
              "      (conv): Conv2d(192, 192, kernel_size=(1, 7), stride=(1, 1), padding=(0, 3), bias=False)\n",
              "      (bn): BatchNorm2d(192, eps=0.001, momentum=0.1, affine=True, track_running_stats=True)\n",
              "    )\n",
              "    (branch7x7x3_3): BasicConv2d(\n",
              "      (conv): Conv2d(192, 192, kernel_size=(7, 1), stride=(1, 1), padding=(3, 0), bias=False)\n",
              "      (bn): BatchNorm2d(192, eps=0.001, momentum=0.1, affine=True, track_running_stats=True)\n",
              "    )\n",
              "    (branch7x7x3_4): BasicConv2d(\n",
              "      (conv): Conv2d(192, 192, kernel_size=(3, 3), stride=(2, 2), bias=False)\n",
              "      (bn): BatchNorm2d(192, eps=0.001, momentum=0.1, affine=True, track_running_stats=True)\n",
              "    )\n",
              "  )\n",
              "  (Mixed_7b): InceptionE(\n",
              "    (branch1x1): BasicConv2d(\n",
              "      (conv): Conv2d(1280, 320, kernel_size=(1, 1), stride=(1, 1), bias=False)\n",
              "      (bn): BatchNorm2d(320, eps=0.001, momentum=0.1, affine=True, track_running_stats=True)\n",
              "    )\n",
              "    (branch3x3_1): BasicConv2d(\n",
              "      (conv): Conv2d(1280, 384, kernel_size=(1, 1), stride=(1, 1), bias=False)\n",
              "      (bn): BatchNorm2d(384, eps=0.001, momentum=0.1, affine=True, track_running_stats=True)\n",
              "    )\n",
              "    (branch3x3_2a): BasicConv2d(\n",
              "      (conv): Conv2d(384, 384, kernel_size=(1, 3), stride=(1, 1), padding=(0, 1), bias=False)\n",
              "      (bn): BatchNorm2d(384, eps=0.001, momentum=0.1, affine=True, track_running_stats=True)\n",
              "    )\n",
              "    (branch3x3_2b): BasicConv2d(\n",
              "      (conv): Conv2d(384, 384, kernel_size=(3, 1), stride=(1, 1), padding=(1, 0), bias=False)\n",
              "      (bn): BatchNorm2d(384, eps=0.001, momentum=0.1, affine=True, track_running_stats=True)\n",
              "    )\n",
              "    (branch3x3dbl_1): BasicConv2d(\n",
              "      (conv): Conv2d(1280, 448, kernel_size=(1, 1), stride=(1, 1), bias=False)\n",
              "      (bn): BatchNorm2d(448, eps=0.001, momentum=0.1, affine=True, track_running_stats=True)\n",
              "    )\n",
              "    (branch3x3dbl_2): BasicConv2d(\n",
              "      (conv): Conv2d(448, 384, kernel_size=(3, 3), stride=(1, 1), padding=(1, 1), bias=False)\n",
              "      (bn): BatchNorm2d(384, eps=0.001, momentum=0.1, affine=True, track_running_stats=True)\n",
              "    )\n",
              "    (branch3x3dbl_3a): BasicConv2d(\n",
              "      (conv): Conv2d(384, 384, kernel_size=(1, 3), stride=(1, 1), padding=(0, 1), bias=False)\n",
              "      (bn): BatchNorm2d(384, eps=0.001, momentum=0.1, affine=True, track_running_stats=True)\n",
              "    )\n",
              "    (branch3x3dbl_3b): BasicConv2d(\n",
              "      (conv): Conv2d(384, 384, kernel_size=(3, 1), stride=(1, 1), padding=(1, 0), bias=False)\n",
              "      (bn): BatchNorm2d(384, eps=0.001, momentum=0.1, affine=True, track_running_stats=True)\n",
              "    )\n",
              "    (branch_pool): BasicConv2d(\n",
              "      (conv): Conv2d(1280, 192, kernel_size=(1, 1), stride=(1, 1), bias=False)\n",
              "      (bn): BatchNorm2d(192, eps=0.001, momentum=0.1, affine=True, track_running_stats=True)\n",
              "    )\n",
              "  )\n",
              "  (Mixed_7c): InceptionE(\n",
              "    (branch1x1): BasicConv2d(\n",
              "      (conv): Conv2d(2048, 320, kernel_size=(1, 1), stride=(1, 1), bias=False)\n",
              "      (bn): BatchNorm2d(320, eps=0.001, momentum=0.1, affine=True, track_running_stats=True)\n",
              "    )\n",
              "    (branch3x3_1): BasicConv2d(\n",
              "      (conv): Conv2d(2048, 384, kernel_size=(1, 1), stride=(1, 1), bias=False)\n",
              "      (bn): BatchNorm2d(384, eps=0.001, momentum=0.1, affine=True, track_running_stats=True)\n",
              "    )\n",
              "    (branch3x3_2a): BasicConv2d(\n",
              "      (conv): Conv2d(384, 384, kernel_size=(1, 3), stride=(1, 1), padding=(0, 1), bias=False)\n",
              "      (bn): BatchNorm2d(384, eps=0.001, momentum=0.1, affine=True, track_running_stats=True)\n",
              "    )\n",
              "    (branch3x3_2b): BasicConv2d(\n",
              "      (conv): Conv2d(384, 384, kernel_size=(3, 1), stride=(1, 1), padding=(1, 0), bias=False)\n",
              "      (bn): BatchNorm2d(384, eps=0.001, momentum=0.1, affine=True, track_running_stats=True)\n",
              "    )\n",
              "    (branch3x3dbl_1): BasicConv2d(\n",
              "      (conv): Conv2d(2048, 448, kernel_size=(1, 1), stride=(1, 1), bias=False)\n",
              "      (bn): BatchNorm2d(448, eps=0.001, momentum=0.1, affine=True, track_running_stats=True)\n",
              "    )\n",
              "    (branch3x3dbl_2): BasicConv2d(\n",
              "      (conv): Conv2d(448, 384, kernel_size=(3, 3), stride=(1, 1), padding=(1, 1), bias=False)\n",
              "      (bn): BatchNorm2d(384, eps=0.001, momentum=0.1, affine=True, track_running_stats=True)\n",
              "    )\n",
              "    (branch3x3dbl_3a): BasicConv2d(\n",
              "      (conv): Conv2d(384, 384, kernel_size=(1, 3), stride=(1, 1), padding=(0, 1), bias=False)\n",
              "      (bn): BatchNorm2d(384, eps=0.001, momentum=0.1, affine=True, track_running_stats=True)\n",
              "    )\n",
              "    (branch3x3dbl_3b): BasicConv2d(\n",
              "      (conv): Conv2d(384, 384, kernel_size=(3, 1), stride=(1, 1), padding=(1, 0), bias=False)\n",
              "      (bn): BatchNorm2d(384, eps=0.001, momentum=0.1, affine=True, track_running_stats=True)\n",
              "    )\n",
              "    (branch_pool): BasicConv2d(\n",
              "      (conv): Conv2d(2048, 192, kernel_size=(1, 1), stride=(1, 1), bias=False)\n",
              "      (bn): BatchNorm2d(192, eps=0.001, momentum=0.1, affine=True, track_running_stats=True)\n",
              "    )\n",
              "  )\n",
              "  (avgpool): AdaptiveAvgPool2d(output_size=(1, 1))\n",
              "  (dropout): Dropout(p=0.5, inplace=False)\n",
              "  (fc): Linear(in_features=2048, out_features=1000, bias=True)\n",
              ")"
            ]
          },
          "metadata": {
            "tags": []
          },
          "execution_count": 7
        }
      ]
    },
    {
      "cell_type": "code",
      "metadata": {
        "id": "tUPtDJ42r3GO",
        "outputId": "a03b3c70-9e4c-419a-aaa1-aeacf84fc74a",
        "colab": {
          "base_uri": "https://localhost:8080/",
          "height": 1000
        }
      },
      "source": [
        "out = inception(batch)\n",
        "out"
      ],
      "execution_count": 8,
      "outputs": [
        {
          "output_type": "execute_result",
          "data": {
            "text/plain": [
              "tensor([[ 3.2139e+00,  1.0781e+00,  5.3574e+00, -2.5386e+00,  3.0597e-01,\n",
              "          1.8210e-01,  7.0654e-01, -2.2998e+00, -9.7766e-01, -2.6797e+00,\n",
              "         -6.1432e+00, -4.6080e+00, -2.0422e+00, -1.1825e+00,  3.2038e+00,\n",
              "         -3.3835e+00, -2.0995e+00, -4.5597e-01,  1.3482e+00, -7.1598e-01,\n",
              "         -1.3018e+01, -3.6663e+00,  2.1849e-03,  3.6303e+00, -7.3299e+00,\n",
              "          2.4684e+00,  8.8673e+00,  1.1030e+01,  1.7037e+00, -2.7159e+00,\n",
              "          2.9242e+00,  1.6440e+00,  1.0901e+00,  1.5258e-01,  6.0560e-01,\n",
              "         -6.0234e+00, -6.6616e+00,  5.7636e+00,  4.7587e+00, -4.5548e+00,\n",
              "         -3.0458e+00, -2.8507e+00,  7.6942e+00, -4.4290e+00, -3.6313e+00,\n",
              "         -7.2023e+00, -1.9878e+00, -3.3115e+00, -4.5864e+00, -2.6267e+00,\n",
              "         -2.8468e+00,  4.8381e-01, -9.2609e+00, -4.1899e+00, -1.0347e+01,\n",
              "         -2.6121e+00, -8.4932e+00,  8.4614e+00, -5.2075e+00, -5.9206e+00,\n",
              "         -5.6662e+00, -6.7344e+00, -1.3416e+00, -1.0848e+00,  1.1917e+00,\n",
              "         -5.2301e+00, -7.4429e+00, -4.8579e+00, -7.7285e+00,  4.4116e+00,\n",
              "          3.8563e-01,  3.4024e+00, -1.4648e+00, -3.8879e+00,  4.6069e-01,\n",
              "         -1.3784e+00,  1.0540e+00, -3.7589e+00, -9.6808e+00,  1.7384e+00,\n",
              "          4.4078e+00, -7.2429e+00,  1.1358e+00,  1.7390e-01,  5.2182e+00,\n",
              "          6.7748e+00,  7.0502e+00, -5.1924e-01,  5.2332e+00,  1.9399e+00,\n",
              "         -5.7859e+00,  2.9107e+00, -1.0318e+00, -8.8859e+00,  2.8082e+00,\n",
              "         -2.5654e+00, -4.6017e+00,  1.2747e+01, -2.2663e+00,  1.4538e+00,\n",
              "         -9.5319e-01,  3.4303e+00, -2.7290e+00, -1.8453e+00, -1.7494e-01,\n",
              "          3.2113e+00, -1.0582e+01, -4.0185e+00, -2.9828e+00, -2.3832e+00,\n",
              "          9.4423e-01, -1.7646e+00, -9.9405e+00, -2.0487e-01,  3.8701e+00,\n",
              "         -7.9586e-01, -3.2707e+00, -2.9828e+00,  2.8515e+00, -6.0087e+00,\n",
              "         -1.9013e+00, -2.5299e-01,  1.9598e+00,  4.6040e+00,  3.5842e+00,\n",
              "         -1.5686e-01,  2.7349e+00, -1.1428e+00, -2.9165e+00, -3.3245e+00,\n",
              "          5.6671e-01, -6.0096e+00, -6.0297e+00, -3.3421e+00, -6.1789e+00,\n",
              "         -2.3303e+00,  6.5708e+00, -3.3717e+00,  2.3474e-01, -1.6790e+00,\n",
              "         -3.1543e+00,  9.1048e-01, -2.2669e+00, -1.7717e+00, -1.5927e+00,\n",
              "         -1.7609e+00,  3.8763e+00,  2.2072e+00, -3.0483e-01, -2.2587e+00,\n",
              "          7.8370e+00,  4.8930e+00, -7.7358e+00, -3.2120e+00,  1.5269e+00,\n",
              "         -5.1552e+00, -2.2778e+00, -7.5634e+00,  2.9447e+00,  4.4845e+01,\n",
              "          6.1368e+00, -1.0128e+00,  1.3393e+01,  4.7644e+00,  9.7483e+00,\n",
              "          9.2047e+00,  2.1017e+01,  2.0303e+01,  3.4896e+01,  6.3769e+00,\n",
              "          4.0781e+00,  7.4932e+00,  1.1545e+01, -4.6087e+00, -3.7249e-01,\n",
              "          4.0623e-01,  1.6751e+01,  2.9759e+00,  7.3616e+00,  7.2661e+00,\n",
              "          8.6506e+00, -1.2150e+00,  1.7988e+00,  1.0953e+00,  1.8965e+01,\n",
              "          2.3265e+01, -3.6835e+00, -4.1198e+00,  9.2139e+00,  2.4975e+00,\n",
              "          4.7508e+00,  2.2508e+01, -1.1837e+00,  2.9660e+00, -2.5869e+00,\n",
              "         -9.0613e+00,  4.7773e+00,  2.5827e+00, -1.3877e+00, -4.9309e+00,\n",
              "          6.4583e+00,  1.6400e+00,  1.1301e+00, -9.2525e+00, -2.9772e+00,\n",
              "          1.9846e+01,  1.5231e+01,  6.2391e+01,  5.2234e+01,  2.7953e+01,\n",
              "          4.3259e+00,  1.6721e+01,  6.7373e+00,  2.3222e+01,  3.3432e+00,\n",
              "          1.4989e+01,  5.4899e+00, -1.5666e+01,  1.3035e+01,  8.9085e+00,\n",
              "          8.4425e+00, -6.9198e+00,  2.9845e+01, -4.6554e+00, -5.0698e+00,\n",
              "         -3.1651e+00, -1.3619e+00,  8.3132e+00, -8.7227e+00,  1.4124e-01,\n",
              "          1.0400e+01,  1.3020e+01,  1.0419e+01, -2.3970e+00,  1.1198e+01,\n",
              "          4.6582e+00,  1.6669e+01,  2.6074e+00,  7.8461e+00,  6.0227e+00,\n",
              "          2.7400e+01,  1.6618e+01,  5.4840e+00,  9.5149e-01,  1.2068e+01,\n",
              "         -6.8346e+00, -6.9959e-02,  5.2289e+00,  2.3483e+00,  8.2346e+00,\n",
              "         -5.0097e+00,  1.1299e+01,  1.9647e+00,  1.7057e+01,  3.5655e+00,\n",
              "          4.7966e+00,  1.1372e+01,  1.6267e+01,  6.3650e+00,  2.4048e+00,\n",
              "          1.1939e+01, -1.2991e+01,  6.7775e+00,  1.6736e+01,  8.3918e+00,\n",
              "         -1.4136e+00, -2.1141e+00,  1.7969e+00, -3.7181e+00,  8.5077e-02,\n",
              "         -1.2899e+01,  1.9502e+00, -3.0710e+00,  1.4823e+01, -3.7335e+00,\n",
              "         -1.0132e+01,  9.4911e+00, -6.6133e+00, -1.7880e+00, -7.2686e+00,\n",
              "         -1.5257e+00, -2.9782e+00, -4.1792e+00, -5.2198e+00,  4.0186e+00,\n",
              "         -4.8622e+00,  6.2407e+00, -9.4947e+00, -1.0279e+01, -8.0993e+00,\n",
              "         -4.0961e+00,  9.7482e+00, -2.1035e+00,  1.7890e+00,  1.8367e+01,\n",
              "         -1.9295e+00,  9.6658e+00, -1.9941e+00, -2.7131e-01,  7.6697e-01,\n",
              "          8.1396e-01,  8.1994e+00, -2.7287e+00, -8.3027e-01,  6.7509e+00,\n",
              "         -5.9900e+00, -5.9907e+00,  1.9706e+00, -3.1891e+00,  7.2001e-01,\n",
              "          4.2928e-02, -5.4361e+00, -4.7767e+00, -4.9574e+00, -3.1972e+00,\n",
              "         -4.7690e+00,  1.1710e+00, -2.6843e+00,  5.8175e+00,  1.3306e+00,\n",
              "         -2.2553e+00,  1.3423e+00,  1.2306e+00,  8.3395e-01, -3.5448e-01,\n",
              "          3.8610e-02, -2.8411e+00,  3.0308e-01, -1.8988e+00, -3.0090e+00,\n",
              "         -1.1494e+01, -1.2376e+01, -1.1656e+01,  5.7787e+00, -8.5212e-01,\n",
              "          1.0740e-01, -3.7193e+00, -1.0822e+01,  1.3538e-01,  3.3262e+00,\n",
              "          2.4563e+00, -3.0860e+00, -8.4732e+00, -6.8757e+00,  5.7784e+00,\n",
              "          2.0450e+00,  2.7995e+00,  1.8119e+00, -3.9464e+00,  1.4281e+00,\n",
              "         -3.5931e+00, -3.4187e+00,  9.2116e-01, -6.3701e+00,  9.1948e+00,\n",
              "         -3.0954e+00, -1.6391e+00, -2.2107e+00, -2.2345e+00, -9.0226e+00,\n",
              "         -1.8434e+00, -5.7639e-01, -2.3740e+00, -3.3760e+00,  1.7015e+00,\n",
              "          5.8363e+00, -5.5738e+00, -6.1580e+00,  1.8881e+00,  1.3527e+00,\n",
              "         -5.9835e+00, -5.2500e+00,  1.4563e+00,  8.5389e-01,  3.2835e+00,\n",
              "         -2.9092e+00,  5.0500e+00,  1.8271e+00,  1.8366e+00, -4.3013e+00,\n",
              "         -1.5287e+00, -3.8413e+00,  9.4104e+00, -1.9488e+00, -3.3805e+00,\n",
              "         -6.8060e+00,  6.5293e-01, -1.5104e-01,  4.7558e+00, -6.8640e+00,\n",
              "         -3.6206e+00,  3.0874e+00,  3.6840e+00,  2.6374e+00, -4.0750e+00,\n",
              "          4.5199e+00,  4.7474e+00,  6.0073e+00,  2.4321e+00, -4.3719e+00,\n",
              "          2.3807e+00,  3.1335e+00,  4.3831e+00,  9.7708e-01, -5.9120e+00,\n",
              "         -4.1531e+00, -2.3699e+00,  2.2692e+00,  8.1229e-01,  3.5777e+00,\n",
              "         -8.5710e-01,  4.2504e+00,  5.1196e+00, -7.7910e+00, -5.5336e+00,\n",
              "          1.8930e+00, -3.0178e+00, -3.6893e-01, -5.3144e+00, -4.3074e+00,\n",
              "         -2.6208e+00, -5.0755e+00, -2.3542e+00, -3.8353e+00, -1.2307e+00,\n",
              "         -4.3186e+00,  9.0396e+00, -2.3651e+00,  5.4618e+00, -3.2658e+00,\n",
              "          3.8213e+00, -2.3528e+00,  9.2687e+00,  1.3659e+00,  8.4588e+00,\n",
              "          3.9704e+00, -1.0198e+01,  3.2213e-02,  8.3285e+00, -2.9120e-01,\n",
              "         -7.5993e+00,  1.1109e-02,  9.3469e-01,  7.6673e+00,  5.2949e-01,\n",
              "         -1.9262e+00, -5.8401e-01,  7.6218e+00,  2.1616e+00, -1.2746e-01,\n",
              "         -3.7226e-01, -9.7255e+00,  5.6057e+00, -4.6678e+00,  1.9949e+00,\n",
              "         -7.9031e+00, -3.8627e+00, -1.3941e-01, -7.2162e-01,  3.6129e+00,\n",
              "          3.3192e+00, -5.3080e+00, -7.3423e+00,  4.0132e+00, -2.6602e+00,\n",
              "         -6.0978e+00, -5.7697e+00, -9.0267e-01,  4.8492e+00, -4.8737e+00,\n",
              "         -6.6063e+00, -8.4428e-01,  6.4598e+00,  2.5050e+00, -7.7426e-01,\n",
              "          8.2713e+00,  4.3745e-01, -4.3264e-01, -3.8079e+00, -7.9841e+00,\n",
              "         -1.2339e+00,  1.8414e+00, -3.9206e+00,  2.7966e+00, -6.9626e+00,\n",
              "         -6.4716e+00,  1.6083e+00, -3.5050e+00, -6.6545e+00, -1.0945e+00,\n",
              "         -4.1241e+00,  4.5321e+00, -1.7140e+00, -3.1380e+00, -1.4493e+00,\n",
              "         -8.3610e+00,  3.7534e+00,  1.3089e-02, -1.1039e+00,  2.6079e+00,\n",
              "         -1.7822e-01, -5.5732e+00, -1.4084e+00, -5.6679e+00, -1.8812e+00,\n",
              "          7.8148e+00, -4.3567e+00, -2.1758e+00,  3.4918e-01, -2.9045e+00,\n",
              "         -9.5117e-01, -8.2324e-01, -6.2966e+00, -5.9149e+00,  7.5136e+00,\n",
              "          6.8743e+00,  4.3573e+00,  1.3649e+00, -5.6887e+00,  4.3329e+00,\n",
              "         -4.9409e-01,  9.9878e+00,  8.0569e+00, -1.2538e+00, -8.7773e-01,\n",
              "         -1.5669e+00, -1.1558e+00, -7.0660e-01,  5.2548e-01, -6.5685e+00,\n",
              "         -3.5840e+00, -3.6580e+00, -4.5951e+00, -2.3643e+00, -1.7504e+00,\n",
              "          3.3616e-01,  7.5453e+00,  1.2120e+01, -5.6631e+00,  1.2265e+01,\n",
              "         -6.1439e+00,  6.7555e+00, -4.3778e+00,  1.4594e+01, -5.1879e+00,\n",
              "         -2.4502e+00,  6.3387e+00, -3.7227e+00, -2.4850e+00,  1.2510e+01,\n",
              "          2.2275e+00,  1.9995e+00,  2.1243e+00, -1.5497e-03,  6.4765e+00,\n",
              "          1.9356e+00,  3.8292e+00,  2.8261e+00, -3.3138e+00, -6.2616e+00,\n",
              "         -3.2298e+00, -8.9720e+00, -1.8708e-02, -1.8263e+00, -1.4980e+00,\n",
              "          1.9429e+00,  8.7748e-03, -4.3344e+00, -5.3761e+00,  2.8745e+00,\n",
              "          2.2154e-01, -3.8140e+00, -6.2483e+00, -4.6257e+00, -3.5439e+00,\n",
              "         -3.3815e-01,  1.9360e+00,  8.9964e+00, -1.9119e+00, -6.9524e+00,\n",
              "         -2.5435e+00, -3.4606e+00, -1.1545e+01, -4.4955e+00, -2.3626e+00,\n",
              "         -7.0096e+00, -7.2012e-01, -1.2978e+00, -1.9553e+00,  4.0091e+00,\n",
              "         -2.8674e+00,  1.7118e+00, -1.1214e+01, -2.2964e+00, -2.3888e+00,\n",
              "          4.7352e+00,  8.8832e-01, -3.1444e+00,  4.4231e+00, -1.0880e+00,\n",
              "         -2.7682e+00,  9.2286e+00, -1.3558e+00, -6.1935e+00, -6.5220e-02,\n",
              "          2.7063e+00,  3.2475e+00,  3.3764e-01,  3.4738e+00,  1.4411e+00,\n",
              "          3.8406e+00,  2.8845e+00,  2.2809e+00, -3.3626e+00, -6.0031e+00,\n",
              "         -4.2714e+00, -4.2905e+00, -3.0683e+00,  1.1053e+00,  5.8269e-01,\n",
              "         -6.4932e+00,  5.6411e+00, -4.1943e+00, -8.9841e+00, -6.6418e+00,\n",
              "          1.3489e+00,  4.1649e+00, -9.2907e-01,  2.1836e-01, -3.6617e+00,\n",
              "         -2.6682e+00, -1.2975e+00,  7.7445e+00,  1.5239e+00,  1.1883e+00,\n",
              "          6.4165e+00, -3.7282e+00, -2.7203e+00, -3.2196e-02,  5.7173e+00,\n",
              "          4.9506e+00,  9.5362e+00, -6.1216e-01,  2.7477e+00, -8.8129e-01,\n",
              "         -2.8260e-01, -2.2586e+00, -3.8524e+00, -1.0105e+01, -7.7200e+00,\n",
              "          6.1978e+00, -5.9436e+00, -6.8904e+00,  2.5269e-01, -3.2821e-01,\n",
              "          1.5017e+00,  7.2500e+00, -1.6987e+00, -4.9187e+00, -3.8139e+00,\n",
              "         -8.0727e+00,  2.5411e+00, -6.7384e+00, -4.7548e+00, -6.9683e+00,\n",
              "          1.3110e+00, -4.7341e+00, -8.7025e-01,  4.6103e-01, -1.5325e+00,\n",
              "          1.7614e+00, -5.7341e+00,  3.5358e+00,  1.3028e+00, -2.0515e+00,\n",
              "         -1.1657e+00,  1.3702e+01,  2.7938e+00,  2.9134e+00, -3.5486e+00,\n",
              "          5.0100e+00, -1.8247e-01,  3.7565e+00, -4.4840e+00, -3.4479e+00,\n",
              "         -1.3074e+00, -5.1098e+00, -6.5296e-01,  5.7876e+00,  6.5201e-01,\n",
              "          2.0838e+00,  4.1816e+00, -3.8604e+00,  8.7116e+00, -1.2666e+00,\n",
              "          1.1178e+00, -5.3638e+00, -3.4609e+00, -6.2076e+00,  6.3273e+00,\n",
              "          2.2901e+00, -5.8056e+00,  3.8411e-01,  1.1396e+00,  2.5404e+00,\n",
              "         -7.1327e+00, -1.3912e+00, -5.3329e+00, -9.7648e+00,  1.4375e+01,\n",
              "          1.0731e+01, -5.1248e+00,  6.0125e+00, -4.2090e+00,  5.1002e-01,\n",
              "         -1.2737e+00, -4.2198e+00,  3.3304e+00, -5.3456e+00, -3.0251e+00,\n",
              "         -9.9721e+00, -5.6481e+00, -1.0116e+01, -3.3827e+00,  4.6315e+00,\n",
              "         -3.0458e+00,  8.0992e+00, -8.2338e+00, -2.5471e+00, -8.3316e+00,\n",
              "         -8.6861e-01, -1.7077e+00, -7.7301e-01,  5.4993e+00, -1.5940e+00,\n",
              "         -4.5061e+00,  1.8574e+00, -2.7541e+00, -5.2805e+00,  1.1515e+00,\n",
              "         -2.2183e+00, -5.6302e+00,  8.3621e+00, -8.1447e+00, -5.9345e+00,\n",
              "         -6.6848e+00, -5.1088e+00, -8.2927e+00, -2.5918e+00, -5.7886e+00,\n",
              "          1.8377e+00, -4.2290e+00,  3.0369e+00, -7.8045e+00, -5.6162e+00,\n",
              "          1.5057e+00, -2.9878e+00,  2.9929e+00, -2.0729e+00, -5.9206e+00,\n",
              "         -8.0653e+00,  1.4167e+00,  2.9965e-01, -7.3658e+00, -3.8357e-01,\n",
              "         -4.6303e+00, -7.4191e-01, -7.8688e+00, -2.2122e+00, -2.2667e+00,\n",
              "          3.1354e-01,  4.4445e+00,  4.2533e+00, -5.6304e-01,  2.9636e+00,\n",
              "         -1.9849e+00, -5.1134e+00, -4.1583e+00, -5.2861e+00,  1.2067e+01,\n",
              "         -1.7718e+00, -2.0507e+00, -6.5190e+00, -3.2182e+00, -2.3827e+00,\n",
              "          6.7069e+00, -2.5252e+00, -8.8993e+00,  7.4564e-01,  2.9096e+00,\n",
              "          4.1352e+00, -3.1125e+00, -5.4950e+00,  4.1803e+00, -1.5088e+00,\n",
              "         -3.4448e+00, -1.8890e-01,  3.2117e+00, -2.1995e+00,  5.9271e+00,\n",
              "         -5.7022e+00, -5.9708e-01,  3.3601e+00,  3.7557e-02,  2.4155e+00,\n",
              "          6.4845e+00, -1.2032e+00, -2.6787e+00,  5.0833e+00, -1.2161e+01,\n",
              "         -5.1281e+00,  7.4723e+00, -3.7065e+00, -1.8989e+00,  1.1224e+00,\n",
              "         -6.2996e+00, -7.1822e+00, -1.1301e+00,  6.9299e+00,  4.4336e+00,\n",
              "         -2.9786e+00, -1.4341e+00, -2.6812e+00, -2.6785e+00,  4.0124e+00,\n",
              "         -4.6256e+00, -9.4105e+00, -6.9334e+00, -1.8305e+00,  6.2767e+00,\n",
              "         -7.6771e+00,  1.2495e+00, -2.9541e+00,  3.9991e+00, -6.5095e+00,\n",
              "          1.4930e+00,  3.3214e+00,  5.3227e+00, -6.0801e+00, -3.9440e+00,\n",
              "         -4.1569e+00, -6.1878e+00, -1.4464e+00, -4.3772e+00, -8.0527e-01,\n",
              "         -2.9003e+00, -6.6974e-01,  3.9815e-01, -3.0767e+00,  6.5920e-01,\n",
              "          1.0410e+01, -1.2749e+00,  1.6245e+01, -6.3831e+00, -1.1641e+00,\n",
              "         -3.8065e+00, -4.4592e+00, -4.3288e+00, -4.8865e+00,  7.2483e+00,\n",
              "         -3.6028e+00, -6.1060e+00, -8.5222e+00,  3.9643e+00, -2.6848e+00,\n",
              "          5.9374e-01, -1.4332e-02, -2.3006e+00, -7.2560e+00, -2.9323e+00,\n",
              "         -2.4978e-01, -3.9419e+00, -6.5067e+00, -4.0628e+00, -1.7085e+00,\n",
              "         -6.5771e+00,  3.7028e+00,  3.8765e+00, -2.1878e-01, -2.0219e+00,\n",
              "         -5.7766e+00, -1.0207e+01, -2.2817e+00, -1.1796e+00, -3.4034e+00,\n",
              "         -5.9870e+00, -1.1242e+00, -2.3010e+00, -3.2974e+00,  2.9092e+00,\n",
              "          6.1964e-01, -4.7640e+00, -5.3458e+00, -4.3301e+00, -8.2518e+00,\n",
              "         -3.9241e+00, -5.2012e+00, -2.5192e+00, -4.2865e+00,  3.6898e+00,\n",
              "         -4.0057e+00, -2.6971e+00, -2.4763e-01, -6.6458e+00,  1.6895e+00,\n",
              "         -8.2364e-01,  2.6104e-01, -8.4437e-01, -2.3346e+00, -7.3082e+00,\n",
              "          2.0610e+00, -8.2230e+00, -7.5123e+00,  8.9182e+00, -3.7219e+00,\n",
              "         -2.0614e+00,  2.3694e+00,  1.9931e+00, -1.0219e+00,  1.4300e+00,\n",
              "          8.7443e+00, -7.5598e-01,  5.6897e-01, -1.1573e+00, -6.6374e+00,\n",
              "          6.7904e-01,  2.7512e+00,  1.1766e+00, -4.1757e+00, -8.6688e+00,\n",
              "         -1.6021e+00,  1.3981e+00, -4.7078e-01, -7.8475e-01,  3.6531e+00,\n",
              "         -2.3622e+00, -2.9787e+00,  2.8846e+00, -7.2374e+00, -4.3221e+00,\n",
              "          1.1791e+00, -4.3602e+00, -7.0934e+00, -2.9635e-01,  1.0250e+00,\n",
              "         -9.4794e+00,  2.2727e+00, -5.1829e+00, -3.0003e+00, -2.1692e+00,\n",
              "         -8.2006e+00, -3.7136e+00,  1.8253e+00,  1.2792e+01, -3.9300e+00,\n",
              "          1.6572e+01, -1.0050e+00,  2.1405e+00,  1.1824e+00,  5.4706e+00,\n",
              "         -1.2405e+00, -7.7684e+00,  1.2803e+00, -3.3169e+00, -3.4144e-01,\n",
              "         -1.8689e+00, -1.4378e+00, -8.9273e-01, -3.8874e+00, -4.1055e+00,\n",
              "         -4.7744e+00, -1.6335e+00, -5.8951e+00,  1.7910e+00, -3.6173e+00,\n",
              "         -2.9987e+00, -4.1415e+00, -3.1498e+00, -7.3555e+00, -1.1390e+01,\n",
              "         -5.6463e+00, -5.7484e+00, -2.4087e+00, -1.5177e+00,  1.7655e+00,\n",
              "         -5.5254e+00, -3.8935e-01, -5.2004e+00,  5.6819e+00, -6.0523e-01,\n",
              "          2.6115e+00, -1.1820e+00,  6.2978e-01,  1.3255e-01, -4.5605e+00,\n",
              "         -4.0029e+00,  5.6536e+00, -2.9835e+00, -1.2073e+01, -1.7245e-01]],\n",
              "       grad_fn=<AddmmBackward>)"
            ]
          },
          "metadata": {
            "tags": []
          },
          "execution_count": 8
        }
      ]
    },
    {
      "cell_type": "code",
      "metadata": {
        "id": "JcrN8HUbsD5Z"
      },
      "source": [
        "request.urlretrieve('https://gist.githubusercontent.com/ykro/acb00a36f737c12013f6e0f8a0d2cb61/raw/a2bb113b83e274048992f6550050a437fa4db76d/imagenet_classes.txt', 'labels.txt')\n",
        "with open('labels.txt') as f:\n",
        "    labels = [line.strip() for line in f.readlines()]"
      ],
      "execution_count": 9,
      "outputs": []
    },
    {
      "cell_type": "code",
      "metadata": {
        "id": "6LrD-NqesJnD",
        "outputId": "3d222c02-01b0-4a68-a93d-96f21c3f1bfb",
        "colab": {
          "base_uri": "https://localhost:8080/",
          "height": 1000
        }
      },
      "source": [
        "out"
      ],
      "execution_count": 10,
      "outputs": [
        {
          "output_type": "execute_result",
          "data": {
            "text/plain": [
              "tensor([[ 3.2139e+00,  1.0781e+00,  5.3574e+00, -2.5386e+00,  3.0597e-01,\n",
              "          1.8210e-01,  7.0654e-01, -2.2998e+00, -9.7766e-01, -2.6797e+00,\n",
              "         -6.1432e+00, -4.6080e+00, -2.0422e+00, -1.1825e+00,  3.2038e+00,\n",
              "         -3.3835e+00, -2.0995e+00, -4.5597e-01,  1.3482e+00, -7.1598e-01,\n",
              "         -1.3018e+01, -3.6663e+00,  2.1849e-03,  3.6303e+00, -7.3299e+00,\n",
              "          2.4684e+00,  8.8673e+00,  1.1030e+01,  1.7037e+00, -2.7159e+00,\n",
              "          2.9242e+00,  1.6440e+00,  1.0901e+00,  1.5258e-01,  6.0560e-01,\n",
              "         -6.0234e+00, -6.6616e+00,  5.7636e+00,  4.7587e+00, -4.5548e+00,\n",
              "         -3.0458e+00, -2.8507e+00,  7.6942e+00, -4.4290e+00, -3.6313e+00,\n",
              "         -7.2023e+00, -1.9878e+00, -3.3115e+00, -4.5864e+00, -2.6267e+00,\n",
              "         -2.8468e+00,  4.8381e-01, -9.2609e+00, -4.1899e+00, -1.0347e+01,\n",
              "         -2.6121e+00, -8.4932e+00,  8.4614e+00, -5.2075e+00, -5.9206e+00,\n",
              "         -5.6662e+00, -6.7344e+00, -1.3416e+00, -1.0848e+00,  1.1917e+00,\n",
              "         -5.2301e+00, -7.4429e+00, -4.8579e+00, -7.7285e+00,  4.4116e+00,\n",
              "          3.8563e-01,  3.4024e+00, -1.4648e+00, -3.8879e+00,  4.6069e-01,\n",
              "         -1.3784e+00,  1.0540e+00, -3.7589e+00, -9.6808e+00,  1.7384e+00,\n",
              "          4.4078e+00, -7.2429e+00,  1.1358e+00,  1.7390e-01,  5.2182e+00,\n",
              "          6.7748e+00,  7.0502e+00, -5.1924e-01,  5.2332e+00,  1.9399e+00,\n",
              "         -5.7859e+00,  2.9107e+00, -1.0318e+00, -8.8859e+00,  2.8082e+00,\n",
              "         -2.5654e+00, -4.6017e+00,  1.2747e+01, -2.2663e+00,  1.4538e+00,\n",
              "         -9.5319e-01,  3.4303e+00, -2.7290e+00, -1.8453e+00, -1.7494e-01,\n",
              "          3.2113e+00, -1.0582e+01, -4.0185e+00, -2.9828e+00, -2.3832e+00,\n",
              "          9.4423e-01, -1.7646e+00, -9.9405e+00, -2.0487e-01,  3.8701e+00,\n",
              "         -7.9586e-01, -3.2707e+00, -2.9828e+00,  2.8515e+00, -6.0087e+00,\n",
              "         -1.9013e+00, -2.5299e-01,  1.9598e+00,  4.6040e+00,  3.5842e+00,\n",
              "         -1.5686e-01,  2.7349e+00, -1.1428e+00, -2.9165e+00, -3.3245e+00,\n",
              "          5.6671e-01, -6.0096e+00, -6.0297e+00, -3.3421e+00, -6.1789e+00,\n",
              "         -2.3303e+00,  6.5708e+00, -3.3717e+00,  2.3474e-01, -1.6790e+00,\n",
              "         -3.1543e+00,  9.1048e-01, -2.2669e+00, -1.7717e+00, -1.5927e+00,\n",
              "         -1.7609e+00,  3.8763e+00,  2.2072e+00, -3.0483e-01, -2.2587e+00,\n",
              "          7.8370e+00,  4.8930e+00, -7.7358e+00, -3.2120e+00,  1.5269e+00,\n",
              "         -5.1552e+00, -2.2778e+00, -7.5634e+00,  2.9447e+00,  4.4845e+01,\n",
              "          6.1368e+00, -1.0128e+00,  1.3393e+01,  4.7644e+00,  9.7483e+00,\n",
              "          9.2047e+00,  2.1017e+01,  2.0303e+01,  3.4896e+01,  6.3769e+00,\n",
              "          4.0781e+00,  7.4932e+00,  1.1545e+01, -4.6087e+00, -3.7249e-01,\n",
              "          4.0623e-01,  1.6751e+01,  2.9759e+00,  7.3616e+00,  7.2661e+00,\n",
              "          8.6506e+00, -1.2150e+00,  1.7988e+00,  1.0953e+00,  1.8965e+01,\n",
              "          2.3265e+01, -3.6835e+00, -4.1198e+00,  9.2139e+00,  2.4975e+00,\n",
              "          4.7508e+00,  2.2508e+01, -1.1837e+00,  2.9660e+00, -2.5869e+00,\n",
              "         -9.0613e+00,  4.7773e+00,  2.5827e+00, -1.3877e+00, -4.9309e+00,\n",
              "          6.4583e+00,  1.6400e+00,  1.1301e+00, -9.2525e+00, -2.9772e+00,\n",
              "          1.9846e+01,  1.5231e+01,  6.2391e+01,  5.2234e+01,  2.7953e+01,\n",
              "          4.3259e+00,  1.6721e+01,  6.7373e+00,  2.3222e+01,  3.3432e+00,\n",
              "          1.4989e+01,  5.4899e+00, -1.5666e+01,  1.3035e+01,  8.9085e+00,\n",
              "          8.4425e+00, -6.9198e+00,  2.9845e+01, -4.6554e+00, -5.0698e+00,\n",
              "         -3.1651e+00, -1.3619e+00,  8.3132e+00, -8.7227e+00,  1.4124e-01,\n",
              "          1.0400e+01,  1.3020e+01,  1.0419e+01, -2.3970e+00,  1.1198e+01,\n",
              "          4.6582e+00,  1.6669e+01,  2.6074e+00,  7.8461e+00,  6.0227e+00,\n",
              "          2.7400e+01,  1.6618e+01,  5.4840e+00,  9.5149e-01,  1.2068e+01,\n",
              "         -6.8346e+00, -6.9959e-02,  5.2289e+00,  2.3483e+00,  8.2346e+00,\n",
              "         -5.0097e+00,  1.1299e+01,  1.9647e+00,  1.7057e+01,  3.5655e+00,\n",
              "          4.7966e+00,  1.1372e+01,  1.6267e+01,  6.3650e+00,  2.4048e+00,\n",
              "          1.1939e+01, -1.2991e+01,  6.7775e+00,  1.6736e+01,  8.3918e+00,\n",
              "         -1.4136e+00, -2.1141e+00,  1.7969e+00, -3.7181e+00,  8.5077e-02,\n",
              "         -1.2899e+01,  1.9502e+00, -3.0710e+00,  1.4823e+01, -3.7335e+00,\n",
              "         -1.0132e+01,  9.4911e+00, -6.6133e+00, -1.7880e+00, -7.2686e+00,\n",
              "         -1.5257e+00, -2.9782e+00, -4.1792e+00, -5.2198e+00,  4.0186e+00,\n",
              "         -4.8622e+00,  6.2407e+00, -9.4947e+00, -1.0279e+01, -8.0993e+00,\n",
              "         -4.0961e+00,  9.7482e+00, -2.1035e+00,  1.7890e+00,  1.8367e+01,\n",
              "         -1.9295e+00,  9.6658e+00, -1.9941e+00, -2.7131e-01,  7.6697e-01,\n",
              "          8.1396e-01,  8.1994e+00, -2.7287e+00, -8.3027e-01,  6.7509e+00,\n",
              "         -5.9900e+00, -5.9907e+00,  1.9706e+00, -3.1891e+00,  7.2001e-01,\n",
              "          4.2928e-02, -5.4361e+00, -4.7767e+00, -4.9574e+00, -3.1972e+00,\n",
              "         -4.7690e+00,  1.1710e+00, -2.6843e+00,  5.8175e+00,  1.3306e+00,\n",
              "         -2.2553e+00,  1.3423e+00,  1.2306e+00,  8.3395e-01, -3.5448e-01,\n",
              "          3.8610e-02, -2.8411e+00,  3.0308e-01, -1.8988e+00, -3.0090e+00,\n",
              "         -1.1494e+01, -1.2376e+01, -1.1656e+01,  5.7787e+00, -8.5212e-01,\n",
              "          1.0740e-01, -3.7193e+00, -1.0822e+01,  1.3538e-01,  3.3262e+00,\n",
              "          2.4563e+00, -3.0860e+00, -8.4732e+00, -6.8757e+00,  5.7784e+00,\n",
              "          2.0450e+00,  2.7995e+00,  1.8119e+00, -3.9464e+00,  1.4281e+00,\n",
              "         -3.5931e+00, -3.4187e+00,  9.2116e-01, -6.3701e+00,  9.1948e+00,\n",
              "         -3.0954e+00, -1.6391e+00, -2.2107e+00, -2.2345e+00, -9.0226e+00,\n",
              "         -1.8434e+00, -5.7639e-01, -2.3740e+00, -3.3760e+00,  1.7015e+00,\n",
              "          5.8363e+00, -5.5738e+00, -6.1580e+00,  1.8881e+00,  1.3527e+00,\n",
              "         -5.9835e+00, -5.2500e+00,  1.4563e+00,  8.5389e-01,  3.2835e+00,\n",
              "         -2.9092e+00,  5.0500e+00,  1.8271e+00,  1.8366e+00, -4.3013e+00,\n",
              "         -1.5287e+00, -3.8413e+00,  9.4104e+00, -1.9488e+00, -3.3805e+00,\n",
              "         -6.8060e+00,  6.5293e-01, -1.5104e-01,  4.7558e+00, -6.8640e+00,\n",
              "         -3.6206e+00,  3.0874e+00,  3.6840e+00,  2.6374e+00, -4.0750e+00,\n",
              "          4.5199e+00,  4.7474e+00,  6.0073e+00,  2.4321e+00, -4.3719e+00,\n",
              "          2.3807e+00,  3.1335e+00,  4.3831e+00,  9.7708e-01, -5.9120e+00,\n",
              "         -4.1531e+00, -2.3699e+00,  2.2692e+00,  8.1229e-01,  3.5777e+00,\n",
              "         -8.5710e-01,  4.2504e+00,  5.1196e+00, -7.7910e+00, -5.5336e+00,\n",
              "          1.8930e+00, -3.0178e+00, -3.6893e-01, -5.3144e+00, -4.3074e+00,\n",
              "         -2.6208e+00, -5.0755e+00, -2.3542e+00, -3.8353e+00, -1.2307e+00,\n",
              "         -4.3186e+00,  9.0396e+00, -2.3651e+00,  5.4618e+00, -3.2658e+00,\n",
              "          3.8213e+00, -2.3528e+00,  9.2687e+00,  1.3659e+00,  8.4588e+00,\n",
              "          3.9704e+00, -1.0198e+01,  3.2213e-02,  8.3285e+00, -2.9120e-01,\n",
              "         -7.5993e+00,  1.1109e-02,  9.3469e-01,  7.6673e+00,  5.2949e-01,\n",
              "         -1.9262e+00, -5.8401e-01,  7.6218e+00,  2.1616e+00, -1.2746e-01,\n",
              "         -3.7226e-01, -9.7255e+00,  5.6057e+00, -4.6678e+00,  1.9949e+00,\n",
              "         -7.9031e+00, -3.8627e+00, -1.3941e-01, -7.2162e-01,  3.6129e+00,\n",
              "          3.3192e+00, -5.3080e+00, -7.3423e+00,  4.0132e+00, -2.6602e+00,\n",
              "         -6.0978e+00, -5.7697e+00, -9.0267e-01,  4.8492e+00, -4.8737e+00,\n",
              "         -6.6063e+00, -8.4428e-01,  6.4598e+00,  2.5050e+00, -7.7426e-01,\n",
              "          8.2713e+00,  4.3745e-01, -4.3264e-01, -3.8079e+00, -7.9841e+00,\n",
              "         -1.2339e+00,  1.8414e+00, -3.9206e+00,  2.7966e+00, -6.9626e+00,\n",
              "         -6.4716e+00,  1.6083e+00, -3.5050e+00, -6.6545e+00, -1.0945e+00,\n",
              "         -4.1241e+00,  4.5321e+00, -1.7140e+00, -3.1380e+00, -1.4493e+00,\n",
              "         -8.3610e+00,  3.7534e+00,  1.3089e-02, -1.1039e+00,  2.6079e+00,\n",
              "         -1.7822e-01, -5.5732e+00, -1.4084e+00, -5.6679e+00, -1.8812e+00,\n",
              "          7.8148e+00, -4.3567e+00, -2.1758e+00,  3.4918e-01, -2.9045e+00,\n",
              "         -9.5117e-01, -8.2324e-01, -6.2966e+00, -5.9149e+00,  7.5136e+00,\n",
              "          6.8743e+00,  4.3573e+00,  1.3649e+00, -5.6887e+00,  4.3329e+00,\n",
              "         -4.9409e-01,  9.9878e+00,  8.0569e+00, -1.2538e+00, -8.7773e-01,\n",
              "         -1.5669e+00, -1.1558e+00, -7.0660e-01,  5.2548e-01, -6.5685e+00,\n",
              "         -3.5840e+00, -3.6580e+00, -4.5951e+00, -2.3643e+00, -1.7504e+00,\n",
              "          3.3616e-01,  7.5453e+00,  1.2120e+01, -5.6631e+00,  1.2265e+01,\n",
              "         -6.1439e+00,  6.7555e+00, -4.3778e+00,  1.4594e+01, -5.1879e+00,\n",
              "         -2.4502e+00,  6.3387e+00, -3.7227e+00, -2.4850e+00,  1.2510e+01,\n",
              "          2.2275e+00,  1.9995e+00,  2.1243e+00, -1.5497e-03,  6.4765e+00,\n",
              "          1.9356e+00,  3.8292e+00,  2.8261e+00, -3.3138e+00, -6.2616e+00,\n",
              "         -3.2298e+00, -8.9720e+00, -1.8708e-02, -1.8263e+00, -1.4980e+00,\n",
              "          1.9429e+00,  8.7748e-03, -4.3344e+00, -5.3761e+00,  2.8745e+00,\n",
              "          2.2154e-01, -3.8140e+00, -6.2483e+00, -4.6257e+00, -3.5439e+00,\n",
              "         -3.3815e-01,  1.9360e+00,  8.9964e+00, -1.9119e+00, -6.9524e+00,\n",
              "         -2.5435e+00, -3.4606e+00, -1.1545e+01, -4.4955e+00, -2.3626e+00,\n",
              "         -7.0096e+00, -7.2012e-01, -1.2978e+00, -1.9553e+00,  4.0091e+00,\n",
              "         -2.8674e+00,  1.7118e+00, -1.1214e+01, -2.2964e+00, -2.3888e+00,\n",
              "          4.7352e+00,  8.8832e-01, -3.1444e+00,  4.4231e+00, -1.0880e+00,\n",
              "         -2.7682e+00,  9.2286e+00, -1.3558e+00, -6.1935e+00, -6.5220e-02,\n",
              "          2.7063e+00,  3.2475e+00,  3.3764e-01,  3.4738e+00,  1.4411e+00,\n",
              "          3.8406e+00,  2.8845e+00,  2.2809e+00, -3.3626e+00, -6.0031e+00,\n",
              "         -4.2714e+00, -4.2905e+00, -3.0683e+00,  1.1053e+00,  5.8269e-01,\n",
              "         -6.4932e+00,  5.6411e+00, -4.1943e+00, -8.9841e+00, -6.6418e+00,\n",
              "          1.3489e+00,  4.1649e+00, -9.2907e-01,  2.1836e-01, -3.6617e+00,\n",
              "         -2.6682e+00, -1.2975e+00,  7.7445e+00,  1.5239e+00,  1.1883e+00,\n",
              "          6.4165e+00, -3.7282e+00, -2.7203e+00, -3.2196e-02,  5.7173e+00,\n",
              "          4.9506e+00,  9.5362e+00, -6.1216e-01,  2.7477e+00, -8.8129e-01,\n",
              "         -2.8260e-01, -2.2586e+00, -3.8524e+00, -1.0105e+01, -7.7200e+00,\n",
              "          6.1978e+00, -5.9436e+00, -6.8904e+00,  2.5269e-01, -3.2821e-01,\n",
              "          1.5017e+00,  7.2500e+00, -1.6987e+00, -4.9187e+00, -3.8139e+00,\n",
              "         -8.0727e+00,  2.5411e+00, -6.7384e+00, -4.7548e+00, -6.9683e+00,\n",
              "          1.3110e+00, -4.7341e+00, -8.7025e-01,  4.6103e-01, -1.5325e+00,\n",
              "          1.7614e+00, -5.7341e+00,  3.5358e+00,  1.3028e+00, -2.0515e+00,\n",
              "         -1.1657e+00,  1.3702e+01,  2.7938e+00,  2.9134e+00, -3.5486e+00,\n",
              "          5.0100e+00, -1.8247e-01,  3.7565e+00, -4.4840e+00, -3.4479e+00,\n",
              "         -1.3074e+00, -5.1098e+00, -6.5296e-01,  5.7876e+00,  6.5201e-01,\n",
              "          2.0838e+00,  4.1816e+00, -3.8604e+00,  8.7116e+00, -1.2666e+00,\n",
              "          1.1178e+00, -5.3638e+00, -3.4609e+00, -6.2076e+00,  6.3273e+00,\n",
              "          2.2901e+00, -5.8056e+00,  3.8411e-01,  1.1396e+00,  2.5404e+00,\n",
              "         -7.1327e+00, -1.3912e+00, -5.3329e+00, -9.7648e+00,  1.4375e+01,\n",
              "          1.0731e+01, -5.1248e+00,  6.0125e+00, -4.2090e+00,  5.1002e-01,\n",
              "         -1.2737e+00, -4.2198e+00,  3.3304e+00, -5.3456e+00, -3.0251e+00,\n",
              "         -9.9721e+00, -5.6481e+00, -1.0116e+01, -3.3827e+00,  4.6315e+00,\n",
              "         -3.0458e+00,  8.0992e+00, -8.2338e+00, -2.5471e+00, -8.3316e+00,\n",
              "         -8.6861e-01, -1.7077e+00, -7.7301e-01,  5.4993e+00, -1.5940e+00,\n",
              "         -4.5061e+00,  1.8574e+00, -2.7541e+00, -5.2805e+00,  1.1515e+00,\n",
              "         -2.2183e+00, -5.6302e+00,  8.3621e+00, -8.1447e+00, -5.9345e+00,\n",
              "         -6.6848e+00, -5.1088e+00, -8.2927e+00, -2.5918e+00, -5.7886e+00,\n",
              "          1.8377e+00, -4.2290e+00,  3.0369e+00, -7.8045e+00, -5.6162e+00,\n",
              "          1.5057e+00, -2.9878e+00,  2.9929e+00, -2.0729e+00, -5.9206e+00,\n",
              "         -8.0653e+00,  1.4167e+00,  2.9965e-01, -7.3658e+00, -3.8357e-01,\n",
              "         -4.6303e+00, -7.4191e-01, -7.8688e+00, -2.2122e+00, -2.2667e+00,\n",
              "          3.1354e-01,  4.4445e+00,  4.2533e+00, -5.6304e-01,  2.9636e+00,\n",
              "         -1.9849e+00, -5.1134e+00, -4.1583e+00, -5.2861e+00,  1.2067e+01,\n",
              "         -1.7718e+00, -2.0507e+00, -6.5190e+00, -3.2182e+00, -2.3827e+00,\n",
              "          6.7069e+00, -2.5252e+00, -8.8993e+00,  7.4564e-01,  2.9096e+00,\n",
              "          4.1352e+00, -3.1125e+00, -5.4950e+00,  4.1803e+00, -1.5088e+00,\n",
              "         -3.4448e+00, -1.8890e-01,  3.2117e+00, -2.1995e+00,  5.9271e+00,\n",
              "         -5.7022e+00, -5.9708e-01,  3.3601e+00,  3.7557e-02,  2.4155e+00,\n",
              "          6.4845e+00, -1.2032e+00, -2.6787e+00,  5.0833e+00, -1.2161e+01,\n",
              "         -5.1281e+00,  7.4723e+00, -3.7065e+00, -1.8989e+00,  1.1224e+00,\n",
              "         -6.2996e+00, -7.1822e+00, -1.1301e+00,  6.9299e+00,  4.4336e+00,\n",
              "         -2.9786e+00, -1.4341e+00, -2.6812e+00, -2.6785e+00,  4.0124e+00,\n",
              "         -4.6256e+00, -9.4105e+00, -6.9334e+00, -1.8305e+00,  6.2767e+00,\n",
              "         -7.6771e+00,  1.2495e+00, -2.9541e+00,  3.9991e+00, -6.5095e+00,\n",
              "          1.4930e+00,  3.3214e+00,  5.3227e+00, -6.0801e+00, -3.9440e+00,\n",
              "         -4.1569e+00, -6.1878e+00, -1.4464e+00, -4.3772e+00, -8.0527e-01,\n",
              "         -2.9003e+00, -6.6974e-01,  3.9815e-01, -3.0767e+00,  6.5920e-01,\n",
              "          1.0410e+01, -1.2749e+00,  1.6245e+01, -6.3831e+00, -1.1641e+00,\n",
              "         -3.8065e+00, -4.4592e+00, -4.3288e+00, -4.8865e+00,  7.2483e+00,\n",
              "         -3.6028e+00, -6.1060e+00, -8.5222e+00,  3.9643e+00, -2.6848e+00,\n",
              "          5.9374e-01, -1.4332e-02, -2.3006e+00, -7.2560e+00, -2.9323e+00,\n",
              "         -2.4978e-01, -3.9419e+00, -6.5067e+00, -4.0628e+00, -1.7085e+00,\n",
              "         -6.5771e+00,  3.7028e+00,  3.8765e+00, -2.1878e-01, -2.0219e+00,\n",
              "         -5.7766e+00, -1.0207e+01, -2.2817e+00, -1.1796e+00, -3.4034e+00,\n",
              "         -5.9870e+00, -1.1242e+00, -2.3010e+00, -3.2974e+00,  2.9092e+00,\n",
              "          6.1964e-01, -4.7640e+00, -5.3458e+00, -4.3301e+00, -8.2518e+00,\n",
              "         -3.9241e+00, -5.2012e+00, -2.5192e+00, -4.2865e+00,  3.6898e+00,\n",
              "         -4.0057e+00, -2.6971e+00, -2.4763e-01, -6.6458e+00,  1.6895e+00,\n",
              "         -8.2364e-01,  2.6104e-01, -8.4437e-01, -2.3346e+00, -7.3082e+00,\n",
              "          2.0610e+00, -8.2230e+00, -7.5123e+00,  8.9182e+00, -3.7219e+00,\n",
              "         -2.0614e+00,  2.3694e+00,  1.9931e+00, -1.0219e+00,  1.4300e+00,\n",
              "          8.7443e+00, -7.5598e-01,  5.6897e-01, -1.1573e+00, -6.6374e+00,\n",
              "          6.7904e-01,  2.7512e+00,  1.1766e+00, -4.1757e+00, -8.6688e+00,\n",
              "         -1.6021e+00,  1.3981e+00, -4.7078e-01, -7.8475e-01,  3.6531e+00,\n",
              "         -2.3622e+00, -2.9787e+00,  2.8846e+00, -7.2374e+00, -4.3221e+00,\n",
              "          1.1791e+00, -4.3602e+00, -7.0934e+00, -2.9635e-01,  1.0250e+00,\n",
              "         -9.4794e+00,  2.2727e+00, -5.1829e+00, -3.0003e+00, -2.1692e+00,\n",
              "         -8.2006e+00, -3.7136e+00,  1.8253e+00,  1.2792e+01, -3.9300e+00,\n",
              "          1.6572e+01, -1.0050e+00,  2.1405e+00,  1.1824e+00,  5.4706e+00,\n",
              "         -1.2405e+00, -7.7684e+00,  1.2803e+00, -3.3169e+00, -3.4144e-01,\n",
              "         -1.8689e+00, -1.4378e+00, -8.9273e-01, -3.8874e+00, -4.1055e+00,\n",
              "         -4.7744e+00, -1.6335e+00, -5.8951e+00,  1.7910e+00, -3.6173e+00,\n",
              "         -2.9987e+00, -4.1415e+00, -3.1498e+00, -7.3555e+00, -1.1390e+01,\n",
              "         -5.6463e+00, -5.7484e+00, -2.4087e+00, -1.5177e+00,  1.7655e+00,\n",
              "         -5.5254e+00, -3.8935e-01, -5.2004e+00,  5.6819e+00, -6.0523e-01,\n",
              "          2.6115e+00, -1.1820e+00,  6.2978e-01,  1.3255e-01, -4.5605e+00,\n",
              "         -4.0029e+00,  5.6536e+00, -2.9835e+00, -1.2073e+01, -1.7245e-01]],\n",
              "       grad_fn=<AddmmBackward>)"
            ]
          },
          "metadata": {
            "tags": []
          },
          "execution_count": 10
        }
      ]
    },
    {
      "cell_type": "code",
      "metadata": {
        "id": "c5zc_YxvsMHG"
      },
      "source": [
        "_, index = torch.max(out, 1)"
      ],
      "execution_count": 11,
      "outputs": []
    },
    {
      "cell_type": "code",
      "metadata": {
        "id": "EQi8Gx_KsPzp",
        "outputId": "077a88eb-ab27-484d-d5c9-a9888d9fa945",
        "colab": {
          "base_uri": "https://localhost:8080/",
          "height": 34
        }
      },
      "source": [
        "percentage = torch.nn.functional.softmax(out, dim=1)[0] * 100\n",
        "labels[index[0]], percentage[index[0]].item()"
      ],
      "execution_count": 12,
      "outputs": [
        {
          "output_type": "execute_result",
          "data": {
            "text/plain": [
              "('golden retriever', 99.99612426757812)"
            ]
          },
          "metadata": {
            "tags": []
          },
          "execution_count": 12
        }
      ]
    },
    {
      "cell_type": "code",
      "metadata": {
        "id": "iimyG-sVtNQU",
        "outputId": "147192cd-b1fb-4e20-98cd-4ae0ba274178",
        "colab": {
          "base_uri": "https://localhost:8080/",
          "height": 103
        }
      },
      "source": [
        "_, indices = torch.sort(out, descending=True)\n",
        "\n",
        "top_five = indices[0][:5]\n",
        "for i in top_five:\n",
        "  print(labels[i], percentage[i].item())"
      ],
      "execution_count": 13,
      "outputs": [
        {
          "output_type": "stream",
          "text": [
            "golden retriever 99.99612426757812\n",
            "Labrador retriever 0.0038796025328338146\n",
            "Rhodesian ridgeback 2.3983516257430892e-06\n",
            "redbone 1.1458116400131502e-10\n",
            "kuvasz 7.335437595887284e-13\n"
          ],
          "name": "stdout"
        }
      ]
    },
    {
      "cell_type": "markdown",
      "metadata": {
        "id": "ocKhMNJ8tbW4"
      },
      "source": [
        "# Trabajando con un dataset\n",
        "\n",
        "---\n",
        "\n"
      ]
    },
    {
      "cell_type": "code",
      "metadata": {
        "id": "Q67rXO5rteF8",
        "outputId": "2053d8e0-8081-464a-8dbd-c32ff2886e6c",
        "colab": {
          "base_uri": "https://localhost:8080/",
          "height": 55
        }
      },
      "source": [
        "data_path = 'data/'\n",
        "dataset = datasets.CIFAR10(data_path, train=True, download=True)\n",
        "validation_set = datasets.CIFAR10(data_path, train=False, download=True)"
      ],
      "execution_count": null,
      "outputs": [
        {
          "output_type": "stream",
          "text": [
            "Files already downloaded and verified\n",
            "Files already downloaded and verified\n"
          ],
          "name": "stdout"
        }
      ]
    },
    {
      "cell_type": "code",
      "metadata": {
        "id": "LQ_5GCzwu3EG"
      },
      "source": [
        "classes = ['plane','car','bird','cat','deer','dog','frog','horse','ship','truck']\n"
      ],
      "execution_count": null,
      "outputs": []
    },
    {
      "cell_type": "code",
      "metadata": {
        "id": "-Ap3AvtTu8Ym",
        "outputId": "b00b5c21-c624-4ecc-f69b-7a4e120fe0bd",
        "colab": {
          "base_uri": "https://localhost:8080/",
          "height": 36
        }
      },
      "source": [
        "len(dataset)"
      ],
      "execution_count": null,
      "outputs": [
        {
          "output_type": "execute_result",
          "data": {
            "text/plain": [
              "50000"
            ]
          },
          "metadata": {
            "tags": []
          },
          "execution_count": 44
        }
      ]
    },
    {
      "cell_type": "code",
      "metadata": {
        "id": "qiSDwCWzu-7S",
        "outputId": "14cb8a6e-ea55-4484-d863-e10eefc35de4",
        "colab": {
          "base_uri": "https://localhost:8080/",
          "height": 36
        }
      },
      "source": [
        "img, label = dataset[50]\n",
        "img, label, classes[label]"
      ],
      "execution_count": null,
      "outputs": [
        {
          "output_type": "execute_result",
          "data": {
            "text/plain": [
              "(<PIL.Image.Image image mode=RGB size=32x32 at 0x7FAB6004ED68>, 9, 'truck')"
            ]
          },
          "metadata": {
            "tags": []
          },
          "execution_count": 47
        }
      ]
    },
    {
      "cell_type": "code",
      "metadata": {
        "id": "knxn0-u_vJNd",
        "outputId": "678d5754-a501-4a06-bbff-fd420b3ae15c",
        "colab": {
          "base_uri": "https://localhost:8080/",
          "height": 288
        }
      },
      "source": [
        "plt.imshow(img)"
      ],
      "execution_count": null,
      "outputs": [
        {
          "output_type": "execute_result",
          "data": {
            "text/plain": [
              "<matplotlib.image.AxesImage at 0x7fab6001d0b8>"
            ]
          },
          "metadata": {
            "tags": []
          },
          "execution_count": 48
        },
        {
          "output_type": "display_data",
          "data": {
            "image/png": "[encoded data removed]",
            "text/plain": [
              "<Figure size 432x288 with 1 Axes>"
            ]
          },
          "metadata": {
            "tags": []
          }
        }
      ]
    },
    {
      "cell_type": "code",
      "metadata": {
        "id": "PlrRz453vTIZ",
        "outputId": "78e14914-71f5-4b39-fd22-1359d893cbdb",
        "colab": {
          "base_uri": "https://localhost:8080/",
          "height": 484
        }
      },
      "source": [
        "tensor_transform = transforms.ToTensor()\n",
        "\n",
        "img_tensor = tensor_transform(img)\n",
        "\n",
        "img, img_tensor, img_tensor.shape"
      ],
      "execution_count": null,
      "outputs": [
        {
          "output_type": "execute_result",
          "data": {
            "text/plain": [
              "(<PIL.Image.Image image mode=RGB size=32x32 at 0x7FAB6004ED68>,\n",
              " tensor([[[0.0627, 0.0667, 0.0667,  ..., 0.2431, 0.2157, 0.2000],\n",
              "          [0.0627, 0.0627, 0.0588,  ..., 0.2431, 0.2275, 0.2039],\n",
              "          [0.0627, 0.0588, 0.0588,  ..., 0.2235, 0.2314, 0.2196],\n",
              "          ...,\n",
              "          [0.3765, 0.4471, 0.4667,  ..., 0.5020, 0.4706, 0.4588],\n",
              "          [0.4627, 0.3922, 0.4471,  ..., 0.5451, 0.5137, 0.4745],\n",
              "          [0.5647, 0.5333, 0.4118,  ..., 0.5686, 0.5373, 0.5137]],\n",
              " \n",
              "         [[0.2980, 0.3020, 0.3020,  ..., 0.4157, 0.3882, 0.3686],\n",
              "          [0.2980, 0.2980, 0.2941,  ..., 0.4275, 0.4118, 0.3922],\n",
              "          [0.2980, 0.2941, 0.2941,  ..., 0.4314, 0.4353, 0.4275],\n",
              "          ...,\n",
              "          [0.4314, 0.4980, 0.5176,  ..., 0.5294, 0.5098, 0.5137],\n",
              "          [0.5176, 0.4431, 0.4941,  ..., 0.5725, 0.5490, 0.5255],\n",
              "          [0.5804, 0.5490, 0.4471,  ..., 0.5922, 0.5647, 0.5529]],\n",
              " \n",
              "         [[0.2902, 0.2941, 0.2941,  ..., 0.3412, 0.3137, 0.2941],\n",
              "          [0.2902, 0.2902, 0.2902,  ..., 0.3294, 0.3137, 0.2941],\n",
              "          [0.2902, 0.2863, 0.2863,  ..., 0.3098, 0.3137, 0.3059],\n",
              "          ...,\n",
              "          [0.5412, 0.6235, 0.6549,  ..., 0.6000, 0.5686, 0.5569],\n",
              "          [0.6235, 0.5686, 0.6392,  ..., 0.6235, 0.6000, 0.5765],\n",
              "          [0.6784, 0.6588, 0.5608,  ..., 0.6667, 0.6392, 0.6196]]]),\n",
              " torch.Size([3, 32, 32]))"
            ]
          },
          "metadata": {
            "tags": []
          },
          "execution_count": 50
        }
      ]
    },
    {
      "cell_type": "code",
      "metadata": {
        "id": "UbNp2Dhjvhhm",
        "outputId": "41db5988-4c4f-44e0-d887-a77647ac0632",
        "colab": {
          "base_uri": "https://localhost:8080/",
          "height": 36
        }
      },
      "source": [
        "dataset = datasets.CIFAR10(data_path, train=True, download=True, transform=transforms.ToTensor())"
      ],
      "execution_count": null,
      "outputs": [
        {
          "output_type": "stream",
          "text": [
            "Files already downloaded and verified\n"
          ],
          "name": "stdout"
        }
      ]
    },
    {
      "cell_type": "code",
      "metadata": {
        "id": "mj3q5uhbvorV",
        "outputId": "2fa1bdf7-67f8-4944-e1e9-ae9842b52f74",
        "colab": {
          "base_uri": "https://localhost:8080/",
          "height": 447
        }
      },
      "source": [
        "img, label = dataset[50]\n",
        "img"
      ],
      "execution_count": null,
      "outputs": [
        {
          "output_type": "execute_result",
          "data": {
            "text/plain": [
              "tensor([[[0.0627, 0.0667, 0.0667,  ..., 0.2431, 0.2157, 0.2000],\n",
              "         [0.0627, 0.0627, 0.0588,  ..., 0.2431, 0.2275, 0.2039],\n",
              "         [0.0627, 0.0588, 0.0588,  ..., 0.2235, 0.2314, 0.2196],\n",
              "         ...,\n",
              "         [0.3765, 0.4471, 0.4667,  ..., 0.5020, 0.4706, 0.4588],\n",
              "         [0.4627, 0.3922, 0.4471,  ..., 0.5451, 0.5137, 0.4745],\n",
              "         [0.5647, 0.5333, 0.4118,  ..., 0.5686, 0.5373, 0.5137]],\n",
              "\n",
              "        [[0.2980, 0.3020, 0.3020,  ..., 0.4157, 0.3882, 0.3686],\n",
              "         [0.2980, 0.2980, 0.2941,  ..., 0.4275, 0.4118, 0.3922],\n",
              "         [0.2980, 0.2941, 0.2941,  ..., 0.4314, 0.4353, 0.4275],\n",
              "         ...,\n",
              "         [0.4314, 0.4980, 0.5176,  ..., 0.5294, 0.5098, 0.5137],\n",
              "         [0.5176, 0.4431, 0.4941,  ..., 0.5725, 0.5490, 0.5255],\n",
              "         [0.5804, 0.5490, 0.4471,  ..., 0.5922, 0.5647, 0.5529]],\n",
              "\n",
              "        [[0.2902, 0.2941, 0.2941,  ..., 0.3412, 0.3137, 0.2941],\n",
              "         [0.2902, 0.2902, 0.2902,  ..., 0.3294, 0.3137, 0.2941],\n",
              "         [0.2902, 0.2863, 0.2863,  ..., 0.3098, 0.3137, 0.3059],\n",
              "         ...,\n",
              "         [0.5412, 0.6235, 0.6549,  ..., 0.6000, 0.5686, 0.5569],\n",
              "         [0.6235, 0.5686, 0.6392,  ..., 0.6235, 0.6000, 0.5765],\n",
              "         [0.6784, 0.6588, 0.5608,  ..., 0.6667, 0.6392, 0.6196]]])"
            ]
          },
          "metadata": {
            "tags": []
          },
          "execution_count": 52
        }
      ]
    },
    {
      "cell_type": "code",
      "metadata": {
        "id": "5z9i7N7Svvp4",
        "outputId": "1800bf3d-5a5f-46ba-bd6c-c89cd54d5097",
        "colab": {
          "base_uri": "https://localhost:8080/",
          "height": 36
        }
      },
      "source": [
        "img.min(), img.max()"
      ],
      "execution_count": null,
      "outputs": [
        {
          "output_type": "execute_result",
          "data": {
            "text/plain": [
              "(tensor(0.0314), tensor(0.9529))"
            ]
          },
          "metadata": {
            "tags": []
          },
          "execution_count": 54
        }
      ]
    },
    {
      "cell_type": "code",
      "metadata": {
        "id": "A4BsiaVpvzni",
        "outputId": "0aa2ed46-a629-439a-c943-41e6d2a4c3c1",
        "colab": {
          "base_uri": "https://localhost:8080/",
          "height": 288
        }
      },
      "source": [
        "plt.imshow(img.permute(1, 2, 0))"
      ],
      "execution_count": null,
      "outputs": [
        {
          "output_type": "execute_result",
          "data": {
            "text/plain": [
              "<matplotlib.image.AxesImage at 0x7fab5ff33908>"
            ]
          },
          "metadata": {
            "tags": []
          },
          "execution_count": 55
        },
        {
          "output_type": "display_data",
          "data": {
            "image/png": "[encoded data removed]",
            "text/plain": [
              "<Figure size 432x288 with 1 Axes>"
            ]
          },
          "metadata": {
            "tags": []
          }
        }
      ]
    },
    {
      "cell_type": "code",
      "metadata": {
        "id": "iH7bAmLfv6_4"
      },
      "source": [
        "imgs = torch.stack([img_tensor for img_tensor, _ in dataset], dim=3)"
      ],
      "execution_count": null,
      "outputs": []
    },
    {
      "cell_type": "code",
      "metadata": {
        "id": "NBiNTu5BwIfm",
        "outputId": "9bb1c963-8884-4ebf-9359-f579f0cf05a0",
        "colab": {
          "base_uri": "https://localhost:8080/",
          "height": 36
        }
      },
      "source": [
        "imgs.shape"
      ],
      "execution_count": null,
      "outputs": [
        {
          "output_type": "execute_result",
          "data": {
            "text/plain": [
              "torch.Size([3, 32, 32, 50000])"
            ]
          },
          "metadata": {
            "tags": []
          },
          "execution_count": 57
        }
      ]
    },
    {
      "cell_type": "code",
      "metadata": {
        "id": "pVeC1U2TwOQm",
        "outputId": "1578a13a-714c-48e2-afbb-77fe42eaadff",
        "colab": {
          "base_uri": "https://localhost:8080/",
          "height": 36
        }
      },
      "source": [
        "imgs.view(3, -1).mean(dim=1)"
      ],
      "execution_count": null,
      "outputs": [
        {
          "output_type": "execute_result",
          "data": {
            "text/plain": [
              "tensor([0.4915, 0.4823, 0.4468])"
            ]
          },
          "metadata": {
            "tags": []
          },
          "execution_count": 58
        }
      ]
    },
    {
      "cell_type": "code",
      "metadata": {
        "id": "rtGAOiMywRD8",
        "outputId": "9a99a5d6-86de-4f1a-f902-790cdb17ee08",
        "colab": {
          "base_uri": "https://localhost:8080/",
          "height": 36
        }
      },
      "source": [
        "imgs.view(3, -1).std(dim=1)"
      ],
      "execution_count": null,
      "outputs": [
        {
          "output_type": "execute_result",
          "data": {
            "text/plain": [
              "tensor([0.2470, 0.2435, 0.2616])"
            ]
          },
          "metadata": {
            "tags": []
          },
          "execution_count": 60
        }
      ]
    },
    {
      "cell_type": "code",
      "metadata": {
        "id": "PZy_tnURwVVh"
      },
      "source": [
        "transform = transforms.Compose(\n",
        "              [transforms.ToTensor(),\n",
        "               transforms.Normalize((0.4915, 0.4823, 0.4468), (0.2470, 0.2435, 0.2616))\n",
        "              ])\n"
      ],
      "execution_count": null,
      "outputs": []
    },
    {
      "cell_type": "code",
      "metadata": {
        "id": "ajSF5RW1wcqq",
        "outputId": "6ed981de-40f3-4748-85dc-fd1b66d8d6bc",
        "colab": {
          "base_uri": "https://localhost:8080/",
          "height": 36
        }
      },
      "source": [
        "dataset = datasets.CIFAR10(data_path, train=True, download=True, transform=transform)"
      ],
      "execution_count": null,
      "outputs": [
        {
          "output_type": "stream",
          "text": [
            "Files already downloaded and verified\n"
          ],
          "name": "stdout"
        }
      ]
    },
    {
      "cell_type": "code",
      "metadata": {
        "id": "FQ0j9j5jwgUY",
        "outputId": "c4aa2d34-6443-4224-f53a-ba4165817d0c",
        "colab": {
          "base_uri": "https://localhost:8080/",
          "height": 327
        }
      },
      "source": [
        "img_transformed,label = dataset[125]\n",
        "\n",
        "plt.imshow(img_transformed.permute(1, 2, 0))\n",
        "classes[label]"
      ],
      "execution_count": null,
      "outputs": [
        {
          "output_type": "stream",
          "text": [
            "Clipping input data to the valid range for imshow with RGB data ([0..1] for floats or [0..255] for integers).\n"
          ],
          "name": "stderr"
        },
        {
          "output_type": "execute_result",
          "data": {
            "text/plain": [
              "'frog'"
            ]
          },
          "metadata": {
            "tags": []
          },
          "execution_count": 66
        },
        {
          "output_type": "display_data",
          "data": {
            "image/png": "[encoded data removed]",
            "text/plain": [
              "<Figure size 432x288 with 1 Axes>"
            ]
          },
          "metadata": {
            "tags": []
          }
        }
      ]
    }
  ]
}